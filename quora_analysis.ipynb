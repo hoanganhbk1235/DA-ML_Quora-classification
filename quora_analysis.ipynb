{
 "cells": [
  {
   "cell_type": "code",
   "execution_count": 0,
   "metadata": {
    "colab": {
     "base_uri": "https://localhost:8080/",
     "height": 34
    },
    "colab_type": "code",
    "id": "iDmWgtYTn5ij",
    "outputId": "74616c8c-10b3-4b45-f089-7beb1d3dcc7a"
   },
   "outputs": [
    {
     "name": "stdout",
     "output_type": "stream",
     "text": [
      "Drive already mounted at /content/drive; to attempt to forcibly remount, call drive.mount(\"/content/drive\", force_remount=True).\n"
     ]
    }
   ],
   "source": [
    "from google.colab import drive\n",
    "drive.mount('/content/drive')"
   ]
  },
  {
   "cell_type": "code",
   "execution_count": 0,
   "metadata": {
    "colab": {
     "base_uri": "https://localhost:8080/",
     "height": 527
    },
    "colab_type": "code",
    "id": "vcBxaqoRocrF",
    "outputId": "2413a5bd-c41d-4f60-91d8-95baad56d1e8"
   },
   "outputs": [
    {
     "name": "stdout",
     "output_type": "stream",
     "text": [
      "Collecting pyLDAvis\n",
      "\u001b[?25l  Downloading https://files.pythonhosted.org/packages/a5/3a/af82e070a8a96e13217c8f362f9a73e82d61ac8fff3a2561946a97f96266/pyLDAvis-2.1.2.tar.gz (1.6MB)\n",
      "\u001b[K     |████████████████████████████████| 1.6MB 2.8MB/s \n",
      "\u001b[?25hRequirement already satisfied: wheel>=0.23.0 in /usr/local/lib/python3.6/dist-packages (from pyLDAvis) (0.33.4)\n",
      "Requirement already satisfied: numpy>=1.9.2 in /usr/local/lib/python3.6/dist-packages (from pyLDAvis) (1.16.4)\n",
      "Requirement already satisfied: scipy>=0.18.0 in /usr/local/lib/python3.6/dist-packages (from pyLDAvis) (1.3.0)\n",
      "Requirement already satisfied: pandas>=0.17.0 in /usr/local/lib/python3.6/dist-packages (from pyLDAvis) (0.24.2)\n",
      "Requirement already satisfied: joblib>=0.8.4 in /usr/local/lib/python3.6/dist-packages (from pyLDAvis) (0.13.2)\n",
      "Requirement already satisfied: jinja2>=2.7.2 in /usr/local/lib/python3.6/dist-packages (from pyLDAvis) (2.10.1)\n",
      "Requirement already satisfied: numexpr in /usr/local/lib/python3.6/dist-packages (from pyLDAvis) (2.6.9)\n",
      "Requirement already satisfied: pytest in /usr/local/lib/python3.6/dist-packages (from pyLDAvis) (3.6.4)\n",
      "Requirement already satisfied: future in /usr/local/lib/python3.6/dist-packages (from pyLDAvis) (0.16.0)\n",
      "Collecting funcy (from pyLDAvis)\n",
      "  Downloading https://files.pythonhosted.org/packages/b3/23/d1f90f4e2af5f9d4921ab3797e33cf0503e3f130dd390a812f3bf59ce9ea/funcy-1.12-py2.py3-none-any.whl\n",
      "Requirement already satisfied: pytz>=2011k in /usr/local/lib/python3.6/dist-packages (from pandas>=0.17.0->pyLDAvis) (2018.9)\n",
      "Requirement already satisfied: python-dateutil>=2.5.0 in /usr/local/lib/python3.6/dist-packages (from pandas>=0.17.0->pyLDAvis) (2.5.3)\n",
      "Requirement already satisfied: MarkupSafe>=0.23 in /usr/local/lib/python3.6/dist-packages (from jinja2>=2.7.2->pyLDAvis) (1.1.1)\n",
      "Requirement already satisfied: py>=1.5.0 in /usr/local/lib/python3.6/dist-packages (from pytest->pyLDAvis) (1.8.0)\n",
      "Requirement already satisfied: atomicwrites>=1.0 in /usr/local/lib/python3.6/dist-packages (from pytest->pyLDAvis) (1.3.0)\n",
      "Requirement already satisfied: more-itertools>=4.0.0 in /usr/local/lib/python3.6/dist-packages (from pytest->pyLDAvis) (7.0.0)\n",
      "Requirement already satisfied: attrs>=17.4.0 in /usr/local/lib/python3.6/dist-packages (from pytest->pyLDAvis) (19.1.0)\n",
      "Requirement already satisfied: setuptools in /usr/local/lib/python3.6/dist-packages (from pytest->pyLDAvis) (41.0.1)\n",
      "Requirement already satisfied: pluggy<0.8,>=0.5 in /usr/local/lib/python3.6/dist-packages (from pytest->pyLDAvis) (0.7.1)\n",
      "Requirement already satisfied: six>=1.10.0 in /usr/local/lib/python3.6/dist-packages (from pytest->pyLDAvis) (1.12.0)\n",
      "Building wheels for collected packages: pyLDAvis\n",
      "  Building wheel for pyLDAvis (setup.py) ... \u001b[?25l\u001b[?25hdone\n",
      "  Stored in directory: /root/.cache/pip/wheels/98/71/24/513a99e58bb6b8465bae4d2d5e9dba8f0bef8179e3051ac414\n",
      "Successfully built pyLDAvis\n",
      "Installing collected packages: funcy, pyLDAvis\n",
      "Successfully installed funcy-1.12 pyLDAvis-2.1.2\n"
     ]
    }
   ],
   "source": [
    "!pip install pyLDAvis"
   ]
  },
  {
   "cell_type": "code",
   "execution_count": 0,
   "metadata": {
    "colab": {
     "base_uri": "https://localhost:8080/",
     "height": 170
    },
    "colab_type": "code",
    "id": "hR-y3Ke-phNB",
    "outputId": "fa586a87-eef9-414b-ef93-3e00e94428c9"
   },
   "outputs": [
    {
     "name": "stdout",
     "output_type": "stream",
     "text": [
      "Collecting textstat\n",
      "  Downloading https://files.pythonhosted.org/packages/66/73/97bb64c89d6f2b24be6ad76007823e19b4c32ed4d484420b3ec6892ac440/textstat-0.5.6-py3-none-any.whl\n",
      "Collecting repoze.lru (from textstat)\n",
      "  Downloading https://files.pythonhosted.org/packages/b0/30/6cc0c95f0b59ad4b3b9163bff7cdcf793cc96fac64cf398ff26271f5cf5e/repoze.lru-0.7-py3-none-any.whl\n",
      "Collecting pyphen (from textstat)\n",
      "\u001b[?25l  Downloading https://files.pythonhosted.org/packages/15/82/08a3629dce8d1f3d91db843bb36d4d7db6b6269d5067259613a0d5c8a9db/Pyphen-0.9.5-py2.py3-none-any.whl (3.0MB)\n",
      "\u001b[K     |████████████████████████████████| 3.0MB 4.2MB/s \n",
      "\u001b[?25hInstalling collected packages: repoze.lru, pyphen, textstat\n",
      "Successfully installed pyphen-0.9.5 repoze.lru-0.7 textstat-0.5.6\n"
     ]
    }
   ],
   "source": [
    "!pip install textstat"
   ]
  },
  {
   "cell_type": "code",
   "execution_count": 0,
   "metadata": {
    "colab": {
     "base_uri": "https://localhost:8080/",
     "height": 102
    },
    "colab_type": "code",
    "id": "PlVqXAwcq2iU",
    "outputId": "a2ae2c25-dfd2-43d7-cb1f-0fd8947dec07"
   },
   "outputs": [
    {
     "name": "stdout",
     "output_type": "stream",
     "text": [
      "Collecting xlsxwriter\n",
      "\u001b[?25l  Downloading https://files.pythonhosted.org/packages/3f/1c/d6d90eb4e94b32b8558296ef197445fb1faca71d747e28ee3ef56f2cfac2/XlsxWriter-1.1.8-py2.py3-none-any.whl (139kB)\n",
      "\u001b[K     |████████████████████████████████| 143kB 2.8MB/s \n",
      "\u001b[?25hInstalling collected packages: xlsxwriter\n",
      "Successfully installed xlsxwriter-1.1.8\n"
     ]
    }
   ],
   "source": [
    "!pip install xlsxwriter"
   ]
  },
  {
   "cell_type": "code",
   "execution_count": 0,
   "metadata": {
    "colab": {},
    "colab_type": "code",
    "collapsed": true,
    "id": "T__ITQ1uqDVK"
   },
   "outputs": [],
   "source": [
    "import numpy as np\n",
    "import pandas as pd\n",
    "from pandas.io.json import json_normalize\n",
    "import tqdm as tqdm\n",
    "import json\n",
    "import string\n",
    "import random\n",
    "import operator\n",
    "import matplotlib.pyplot as plt\n",
    "import seaborn as sns\n",
    "from sklearn.decomposition import NMF, LatentDirichletAllocation, TruncatedSVD\n",
    "from statistics import *\n",
    "from sklearn.feature_extraction.text import CountVectorizer\n",
    "import concurrent.futures\n",
    "import time\n",
    "import pyLDAvis.sklearn\n",
    "from pylab import bone, pcolor, colorbar, plot, show, rcParams, savefig\n",
    "import textstat\n",
    "import warnings\n",
    "import nltk\n",
    "import xlsxwriter\n",
    "warnings.filterwarnings('ignore')\n",
    "\n",
    "color = sns.color_palette()\n",
    "\n",
    "\n",
    "pd.options.mode.chained_assignment = None\n",
    "pd.options.display.max_columns = 999\n",
    "\n",
    "%matplotlib inline\n",
    "import os\n",
    "\n",
    "# spaCy based imports\n",
    "import spacy\n",
    "from spacy.lang.en.stop_words import STOP_WORDS\n",
    "from spacy.lang.en import English\n",
    "\n",
    "import warnings\n",
    "warnings.filterwarnings(\"ignore\")"
   ]
  },
  {
   "cell_type": "code",
   "execution_count": 0,
   "metadata": {
    "colab": {},
    "colab_type": "code",
    "collapsed": true,
    "id": "UGuKzSimq0le"
   },
   "outputs": [],
   "source": [
    "import xlsxwriter"
   ]
  },
  {
   "cell_type": "code",
   "execution_count": 0,
   "metadata": {
    "colab": {
     "base_uri": "https://localhost:8080/",
     "height": 34
    },
    "colab_type": "code",
    "id": "Qv8kuPmmqHEW",
    "outputId": "9fa6606f-dfa6-4aae-9008-fcd74fd8c6d5"
   },
   "outputs": [
    {
     "name": "stdout",
     "output_type": "stream",
     "text": [
      "/content\n"
     ]
    }
   ],
   "source": [
    "# check current location\n",
    "!pwd"
   ]
  },
  {
   "cell_type": "code",
   "execution_count": 0,
   "metadata": {
    "colab": {
     "base_uri": "https://localhost:8080/",
     "height": 34
    },
    "colab_type": "code",
    "id": "tPz5raexqIpw",
    "outputId": "979f019d-deb3-4664-9bcd-dcd13b943535"
   },
   "outputs": [
    {
     "name": "stdout",
     "output_type": "stream",
     "text": [
      "\u001b[0m\u001b[01;34mdrive\u001b[0m/  \u001b[01;34msample_data\u001b[0m/\n"
     ]
    }
   ],
   "source": [
    "ls"
   ]
  },
  {
   "cell_type": "code",
   "execution_count": 0,
   "metadata": {
    "colab": {},
    "colab_type": "code",
    "collapsed": true,
    "id": "ulJorVc1qJ8j"
   },
   "outputs": [],
   "source": [
    "# /content/drive/My Drive/Colab Notebooks/project_final/quora-insincere-questions-classification/"
   ]
  },
  {
   "cell_type": "code",
   "execution_count": 0,
   "metadata": {
    "colab": {},
    "colab_type": "code",
    "collapsed": true,
    "id": "0qg2FwSDqLda"
   },
   "outputs": [],
   "source": [
    "# load data\n",
    "quora_train = pd.read_csv('... input/quora-insincere-questions-classification/train.csv')\n",
    "quora_test = pd.read_csv('...input/quora-insincere-questions-classification/test.csv')"
   ]
  },
  {
   "cell_type": "code",
   "execution_count": 0,
   "metadata": {
    "colab": {
     "base_uri": "https://localhost:8080/",
     "height": 34
    },
    "colab_type": "code",
    "id": "gBKTou2dfou5",
    "outputId": "0fd60de8-3a13-40c1-cff3-2c1ba629784b"
   },
   "outputs": [
    {
     "data": {
      "text/plain": [
       "(1306122, 3)"
      ]
     },
     "execution_count": 11,
     "metadata": {
      "tags": []
     },
     "output_type": "execute_result"
    }
   ],
   "source": [
    "quora_train.shape"
   ]
  },
  {
   "cell_type": "code",
   "execution_count": 0,
   "metadata": {
    "colab": {
     "base_uri": "https://localhost:8080/",
     "height": 111
    },
    "colab_type": "code",
    "id": "lE1SHkC5qOG0",
    "outputId": "786310d0-87f2-4357-f869-e3b571141ebf"
   },
   "outputs": [
    {
     "data": {
      "text/html": [
       "<div>\n",
       "<style scoped>\n",
       "    .dataframe tbody tr th:only-of-type {\n",
       "        vertical-align: middle;\n",
       "    }\n",
       "\n",
       "    .dataframe tbody tr th {\n",
       "        vertical-align: top;\n",
       "    }\n",
       "\n",
       "    .dataframe thead th {\n",
       "        text-align: right;\n",
       "    }\n",
       "</style>\n",
       "<table border=\"1\" class=\"dataframe\">\n",
       "  <thead>\n",
       "    <tr style=\"text-align: right;\">\n",
       "      <th></th>\n",
       "      <th>qid</th>\n",
       "      <th>question_text</th>\n",
       "      <th>target</th>\n",
       "    </tr>\n",
       "  </thead>\n",
       "  <tbody>\n",
       "    <tr>\n",
       "      <th>0</th>\n",
       "      <td>00002165364db923c7e6</td>\n",
       "      <td>How did Quebec nationalists see their province...</td>\n",
       "      <td>0</td>\n",
       "    </tr>\n",
       "    <tr>\n",
       "      <th>1</th>\n",
       "      <td>000032939017120e6e44</td>\n",
       "      <td>Do you have an adopted dog, how would you enco...</td>\n",
       "      <td>0</td>\n",
       "    </tr>\n",
       "  </tbody>\n",
       "</table>\n",
       "</div>"
      ],
      "text/plain": [
       "                    qid                                      question_text  \\\n",
       "0  00002165364db923c7e6  How did Quebec nationalists see their province...   \n",
       "1  000032939017120e6e44  Do you have an adopted dog, how would you enco...   \n",
       "\n",
       "   target  \n",
       "0       0  \n",
       "1       0  "
      ]
     },
     "execution_count": 12,
     "metadata": {
      "tags": []
     },
     "output_type": "execute_result"
    }
   ],
   "source": [
    "quora_train.head(2)"
   ]
  },
  {
   "cell_type": "code",
   "execution_count": 0,
   "metadata": {
    "colab": {},
    "colab_type": "code",
    "collapsed": true,
    "id": "XsbUKIBWqdeE"
   },
   "outputs": [],
   "source": [
    "# spaCy parser for questions\n",
    "# the special character\n",
    "punctuations = string.punctuation\n",
    "# the stopwords of english\n",
    "stopwords = list(STOP_WORDS)"
   ]
  },
  {
   "cell_type": "code",
   "execution_count": 0,
   "metadata": {
    "colab": {
     "base_uri": "https://localhost:8080/",
     "height": 71
    },
    "colab_type": "code",
    "id": "ubjvtlhVqisn",
    "outputId": "60275dc4-ebd8-4706-8587-15ce7dc108ef"
   },
   "outputs": [
    {
     "name": "stdout",
     "output_type": "stream",
     "text": [
      "!\"#$%&'()*+,-./:;<=>?@[\\]^_`{|}~\n",
      "['least', 'moreover', 'below', \"'ll\", 'am', 'done', 'own', 'thus', 'thereby', 'yourself', 'until', 'whoever', 'side', 'does', 'from', 'always', 'on', 'really', 'already', 'hereupon', '’ll', 'afterwards', 'eleven', 'four', 'mostly', 'up', 'front', 'serious', 'over', 'thru', 'what', 'put', 'name', 'say', 'everyone', 'hereby', 'is', 'whose', 'we', 'would', 'everything', 'the', 'there', 'throughout', 'which', 'therefore', 'every', 'himself', 'in', 'it', 'alone', 'may', 'however', 'namely', 'per', 're', 'thereupon', 'who', 'n’t', 'of', 'although', 'out', 'therein', 'go', 'again', 'nor', 'can', 'unless', 'whereas', 'that', 'others', 'anywhere', 'either', 'an', 'though', 'to', 'yourselves', 'since', 'anyway', 'noone', 'someone', 'through', 'none', 'and', 'perhaps', 'quite', 'regarding', 'give', 'together', 'ours', 'take', 'keep', 'as', 'just', 'various', 'former', 'toward', 'not', 'indeed', 'via', 'beforehand', 'ca', 'among', 'than', 'well', 'whatever', 'nowhere', '‘m', 'whether', 'seem', 'latter', 'sometime', '’s', 'a', 'along', 'anyone', 'three', 'but', 'yet', 'forty', 'becomes', 'for', 'mine', 'ourselves', 'without', 'you', 'yours', 'beyond', 'bottom', 'even', \"'s\", 'hence', 'sixty', 'amongst', 'using', 'above', 'hereafter', 'been', 'being', 'six', 'might', '‘s', 'meanwhile', 'please', 'across', '’m', 'become', 'had', 'except', 'under', 'rather', 'why', 'two', 'will', 'due', 'around', 'very', 'eight', 'whereupon', 'now', 'when', '‘d', 'all', 'becoming', 'hundred', 'where', \"'ve\", 'anything', 'within', 'towards', 'should', '’d', 'at', 'themselves', 'n‘t', '‘ll', 'part', 'never', 'once', 'ten', 'this', 'with', 'some', 'their', 'further', 'fifteen', 'after', 'they', 'are', 'behind', 'those', \"'d\", 'down', 'no', 'nine', 'ever', 'formerly', \"'re\", 'here', 'still', 'call', 'has', 'herself', 'such', 'less', 'or', 'twelve', 'too', '‘re', 'hers', 'whereby', 'amount', 'did', 'fifty', 'his', 'somehow', 'nevertheless', 'onto', 'seems', 'them', 'other', 'also', 'few', 'us', 'used', 'almost', 'whence', 'nobody', '‘ve', 'whole', 'show', '’ve', 'same', 'full', 'its', 'more', 'do', 'whereafter', 'last', 'itself', 'another', 'five', 'get', 'any', 'have', 'move', 'often', 'her', 'much', 'became', 'besides', 'seeming', 'several', 'both', 'doing', 'he', 'because', 'during', 'if', 'one', 'by', 'so', 'sometimes', 'thereafter', 'how', 'see', '’re', 'else', 'whither', 'wherein', 'neither', 'our', 'each', 'upon', 'about', 'i', 'cannot', 'next', 'most', 'nothing', 'somewhere', 'anyhow', 'then', 'between', 'whenever', 'seemed', 'could', 'made', 'empty', 'him', 'before', 'these', 'was', 'your', 'everywhere', 'against', 'top', 'wherever', \"'m\", 'latterly', 'she', 'my', 'twenty', 'me', 'first', 'myself', 'off', 'many', 'third', 'whom', \"n't\", 'make', 'herein', 'were', 'must', 'enough', 'something', 'back', 'otherwise', 'beside', 'only', 'while', 'into', 'elsewhere', 'be', 'thence']\n"
     ]
    }
   ],
   "source": [
    "print(punctuations)\n",
    "print(stopwords)"
   ]
  },
  {
   "cell_type": "code",
   "execution_count": 0,
   "metadata": {
    "colab": {
     "base_uri": "https://localhost:8080/",
     "height": 34
    },
    "colab_type": "code",
    "id": "LzKFx7C6qj_z",
    "outputId": "1df9ea5c-94ff-4fde-d979-4f8a1a8e9142"
   },
   "outputs": [
    {
     "name": "stdout",
     "output_type": "stream",
     "text": [
      "<spacy.lang.en.English object at 0x7fc68b3d69b0>\n"
     ]
    }
   ],
   "source": [
    "parser = English()\n",
    "print(parser)"
   ]
  },
  {
   "cell_type": "markdown",
   "metadata": {
    "colab_type": "text",
    "id": "A-RUNnLjr-vi"
   },
   "source": [
    "1. preprocessing"
   ]
  },
  {
   "cell_type": "code",
   "execution_count": 0,
   "metadata": {
    "colab": {},
    "colab_type": "code",
    "collapsed": true,
    "id": "dQ5V9v9hqnQH"
   },
   "outputs": [],
   "source": [
    "def scapy_tokenizer(sentence):\n",
    "  mytokens = parser(sentence)\n",
    "  #print(mytokens)\n",
    "  mytokens = [ word.lemma_.lower().strip() if word.lemma_ != \"-PRON-\" else word.lower_ for word in mytokens ]\n",
    "  #print(mytokens)\n",
    "  mytokens = [ word for word in mytokens if word not in stopwords and word not in punctuations ]\n",
    "  #print(mytokens)\n",
    "  mytokens = \" \".join([i for i in mytokens])\n",
    "  return mytokens"
   ]
  },
  {
   "cell_type": "code",
   "execution_count": 0,
   "metadata": {
    "colab": {
     "base_uri": "https://localhost:8080/",
     "height": 34
    },
    "colab_type": "code",
    "id": "39Vyv1IJqv5O",
    "outputId": "efc1c0e8-8e03-43a3-90ce-a4d0ac8363f6"
   },
   "outputs": [
    {
     "data": {
      "text/plain": [
       "'quebec nationalist province nation 1960s'"
      ]
     },
     "execution_count": 16,
     "metadata": {
      "tags": []
     },
     "output_type": "execute_result"
    }
   ],
   "source": [
    "scapy_tokenizer(quora_train.loc[0, 'question_text'])"
   ]
  },
  {
   "cell_type": "code",
   "execution_count": 0,
   "metadata": {
    "colab": {
     "base_uri": "https://localhost:8080/",
     "height": 34
    },
    "colab_type": "code",
    "id": "1I3blccVqzPD",
    "outputId": "ee6cd19b-813d-4163-c49e-8507dc6e1ffc"
   },
   "outputs": [
    {
     "name": "stdout",
     "output_type": "stream",
     "text": [
      "How did Quebec nationalists see their province as a nation in the 1960s?\n"
     ]
    }
   ],
   "source": [
    "print(quora_train.loc[0, 'question_text'])"
   ]
  },
  {
   "cell_type": "code",
   "execution_count": 0,
   "metadata": {
    "colab": {},
    "colab_type": "code",
    "collapsed": true,
    "id": "SK-ND6WDf44K"
   },
   "outputs": [],
   "source": [
    "# way 1\n",
    "# for i in range(quora_train.shape[0]):\n",
    "#   print(i)\n",
    "#   quora_train.loc[i, 'question_text'] = scapy_tokenizer(quora_train.loc[i, 'question_text'])\n",
    "\n",
    "# way 2\n",
    "quora_train['question_norm'] = quora_train['question_text'].apply(scapy_tokenizer)\n",
    "quora_test['question_norm'] = quora_test['question_text'].apply(scapy_tokenizer)"
   ]
  },
  {
   "cell_type": "code",
   "execution_count": 0,
   "metadata": {
    "colab": {},
    "colab_type": "code",
    "collapsed": true,
    "id": "XqPR-s1VzN6h"
   },
   "outputs": [],
   "source": [
    "\n",
    "def remove_s(setences):\n",
    "  return setences.replace('  ', '').strip()."
   ]
  },
  {
   "cell_type": "code",
   "execution_count": 0,
   "metadata": {
    "colab": {
     "base_uri": "https://localhost:8080/",
     "height": 80
    },
    "colab_type": "code",
    "id": "3-7bcue9znbQ",
    "outputId": "06bd8847-5909-4ee2-c143-3ba41cb8c27f"
   },
   "outputs": [
    {
     "data": {
      "text/html": [
       "<div>\n",
       "<style scoped>\n",
       "    .dataframe tbody tr th:only-of-type {\n",
       "        vertical-align: middle;\n",
       "    }\n",
       "\n",
       "    .dataframe tbody tr th {\n",
       "        vertical-align: top;\n",
       "    }\n",
       "\n",
       "    .dataframe thead th {\n",
       "        text-align: right;\n",
       "    }\n",
       "</style>\n",
       "<table border=\"1\" class=\"dataframe\">\n",
       "  <thead>\n",
       "    <tr style=\"text-align: right;\">\n",
       "      <th></th>\n",
       "      <th>a</th>\n",
       "    </tr>\n",
       "  </thead>\n",
       "  <tbody>\n",
       "    <tr>\n",
       "      <th>0</th>\n",
       "      <td>quebec nationalist province nation 1960s</td>\n",
       "    </tr>\n",
       "  </tbody>\n",
       "</table>\n",
       "</div>"
      ],
      "text/plain": [
       "                                          a\n",
       "0  quebec nationalist province nation 1960s"
      ]
     },
     "execution_count": 20,
     "metadata": {
      "tags": []
     },
     "output_type": "execute_result"
    }
   ],
   "source": [
    "a = 'quebec nationalist   province     nation 1960s     '\n",
    "d = pd.DataFrame()\n",
    "d['a'] = [a]\n",
    "d['a'] = d['a'].apply(remove_s)\n",
    "d"
   ]
  },
  {
   "cell_type": "code",
   "execution_count": 0,
   "metadata": {
    "colab": {},
    "colab_type": "code",
    "collapsed": true,
    "id": "hKYWaW4p5j0O"
   },
   "outputs": [],
   "source": [
    "quora_train['question_text'] = quora_train['question_text'].apply(remove_s)\n",
    "quora_train['question_norm'] = quora_train['question_norm'].apply(remove_s)"
   ]
  },
  {
   "cell_type": "code",
   "execution_count": 0,
   "metadata": {
    "colab": {},
    "colab_type": "code",
    "collapsed": true,
    "id": "kPsSgUL66NE3"
   },
   "outputs": [],
   "source": [
    "quora_test['question_text'] = quora_test['question_text'].apply(remove_s)\n",
    "quora_test['question_norm'] = quora_test['question_norm'].apply(remove_s)"
   ]
  },
  {
   "cell_type": "code",
   "execution_count": 0,
   "metadata": {
    "colab": {
     "base_uri": "https://localhost:8080/",
     "height": 34
    },
    "colab_type": "code",
    "id": "G9vMUp_o5jqR",
    "outputId": "d70d2754-ff8d-4c94-eb64-fed4d9e83ffb"
   },
   "outputs": [
    {
     "data": {
      "text/plain": [
       "(1306122, 4)"
      ]
     },
     "execution_count": 23,
     "metadata": {
      "tags": []
     },
     "output_type": "execute_result"
    }
   ],
   "source": [
    "quora_train.shape"
   ]
  },
  {
   "cell_type": "code",
   "execution_count": 0,
   "metadata": {
    "colab": {},
    "colab_type": "code",
    "collapsed": true,
    "id": "tefpmTZzf4tx"
   },
   "outputs": [],
   "source": [
    "# save file xlsx\n",
    "writer = pd.ExcelWriter('...input/quora-insincere-questions-classification/quora_train.xlsx', engine= 'xlsxwriter')\n",
    "quora_train.to_excel(writer, 'Sheet1')\n",
    "writer.save()\n",
    "\n",
    "writer1 = pd.ExcelWriter('...input/quora-insincere-questions-classification/quora_test.xlsx', engine= 'xlsxwriter')\n",
    "quora_test.to_excel(writer1, 'Sheet1')\n",
    "writer.save()"
   ]
  },
  {
   "cell_type": "code",
   "execution_count": 0,
   "metadata": {
    "colab": {
     "base_uri": "https://localhost:8080/",
     "height": 111
    },
    "colab_type": "code",
    "id": "gTPaqz_Tr2z1",
    "outputId": "d22c581f-dae0-4d22-d3f7-1e0213671d30"
   },
   "outputs": [
    {
     "data": {
      "text/html": [
       "<div>\n",
       "<style scoped>\n",
       "    .dataframe tbody tr th:only-of-type {\n",
       "        vertical-align: middle;\n",
       "    }\n",
       "\n",
       "    .dataframe tbody tr th {\n",
       "        vertical-align: top;\n",
       "    }\n",
       "\n",
       "    .dataframe thead th {\n",
       "        text-align: right;\n",
       "    }\n",
       "</style>\n",
       "<table border=\"1\" class=\"dataframe\">\n",
       "  <thead>\n",
       "    <tr style=\"text-align: right;\">\n",
       "      <th></th>\n",
       "      <th>qid</th>\n",
       "      <th>question_text</th>\n",
       "      <th>target</th>\n",
       "      <th>question_norm</th>\n",
       "    </tr>\n",
       "  </thead>\n",
       "  <tbody>\n",
       "    <tr>\n",
       "      <th>0</th>\n",
       "      <td>00002165364db923c7e6</td>\n",
       "      <td>How did Quebec nationalists see their province...</td>\n",
       "      <td>0</td>\n",
       "      <td>quebec nationalist province nation 1960s</td>\n",
       "    </tr>\n",
       "    <tr>\n",
       "      <th>1</th>\n",
       "      <td>000032939017120e6e44</td>\n",
       "      <td>Do you have an adopted dog, how would you enco...</td>\n",
       "      <td>0</td>\n",
       "      <td>adopt dog encourage people adopt shop</td>\n",
       "    </tr>\n",
       "  </tbody>\n",
       "</table>\n",
       "</div>"
      ],
      "text/plain": [
       "                    qid                                      question_text  \\\n",
       "0  00002165364db923c7e6  How did Quebec nationalists see their province...   \n",
       "1  000032939017120e6e44  Do you have an adopted dog, how would you enco...   \n",
       "\n",
       "   target                             question_norm  \n",
       "0       0  quebec nationalist province nation 1960s  \n",
       "1       0     adopt dog encourage people adopt shop  "
      ]
     },
     "execution_count": 25,
     "metadata": {
      "tags": []
     },
     "output_type": "execute_result"
    }
   ],
   "source": [
    "quora_train.head(2)"
   ]
  },
  {
   "cell_type": "code",
   "execution_count": 0,
   "metadata": {
    "colab": {},
    "colab_type": "code",
    "collapsed": true,
    "id": "rup03561q1BR"
   },
   "outputs": [],
   "source": [
    "# sincere_questions = quora_train[\"question_text\"][quora_train[\"target\"] == 0].apply(scapy_tokenizer)\n",
    "# insincere_questions = quora_train[\"question_text\"][quora_train[\"target\"] == 1].apply(scapy_tokenizer)"
   ]
  },
  {
   "cell_type": "code",
   "execution_count": 0,
   "metadata": {
    "colab": {},
    "colab_type": "code",
    "collapsed": true,
    "id": "cal8muQUq-Ua"
   },
   "outputs": [],
   "source": [
    "# sincere_df = sincere_questions.to_frame()\n",
    "# insincere_df = insincere_questions.to_frame()\n",
    "# sincere_questions.to_frame().head(2)"
   ]
  },
  {
   "cell_type": "code",
   "execution_count": 0,
   "metadata": {
    "colab": {},
    "colab_type": "code",
    "collapsed": true,
    "id": "X2BR8-QdtxZD"
   },
   "outputs": [],
   "source": [
    "# ls_sincere = list(sincere_df.question_text.values)\n",
    "# ls_insincere = list(insincere_df.question_text.values)\n",
    "# ls_w = ls_insincere + ls_sincere"
   ]
  },
  {
   "cell_type": "markdown",
   "metadata": {
    "colab_type": "text",
    "id": "nCJg3NNHsKxe"
   },
   "source": [
    "2. data analysis"
   ]
  },
  {
   "cell_type": "markdown",
   "metadata": {
    "colab_type": "text",
    "id": "733BjMycvxDh"
   },
   "source": [
    "2.1 distribution of the word number in the sentence"
   ]
  },
  {
   "cell_type": "code",
   "execution_count": 0,
   "metadata": {
    "colab": {},
    "colab_type": "code",
    "collapsed": true,
    "id": "gBo5TkBKuo8a"
   },
   "outputs": [],
   "source": [
    "def count_words(sentence):\n",
    "  return len(sentence.split())"
   ]
  },
  {
   "cell_type": "code",
   "execution_count": 0,
   "metadata": {
    "colab": {
     "base_uri": "https://localhost:8080/",
     "height": 34
    },
    "colab_type": "code",
    "id": "aWqzVPGusP8t",
    "outputId": "3a23a986-39ff-4a6a-e66c-d5531505f286"
   },
   "outputs": [
    {
     "data": {
      "text/plain": [
       "13"
      ]
     },
     "execution_count": 30,
     "metadata": {
      "tags": []
     },
     "output_type": "execute_result"
    }
   ],
   "source": [
    "count_words(quora_train.loc[0, 'question_text'])"
   ]
  },
  {
   "cell_type": "code",
   "execution_count": 0,
   "metadata": {
    "colab": {},
    "colab_type": "code",
    "collapsed": true,
    "id": "blWw9L5Pvupe"
   },
   "outputs": [],
   "source": [
    "quora_train['count_word'] = quora_train['question_text'].apply(count_words)\n",
    "quora_test['count_word'] = quora_test['question_text'].apply(count_words)"
   ]
  },
  {
   "cell_type": "code",
   "execution_count": 0,
   "metadata": {
    "colab": {
     "base_uri": "https://localhost:8080/",
     "height": 170
    },
    "colab_type": "code",
    "id": "Q_R7bx4VwUjY",
    "outputId": "6774c5e4-675f-4cc9-cae1-3b0e70de1a32"
   },
   "outputs": [
    {
     "data": {
      "text/plain": [
       "count    1306122\n",
       "mean          12\n",
       "std            7\n",
       "min            1\n",
       "25%            8\n",
       "50%           11\n",
       "75%           15\n",
       "max          134\n",
       "Name: count_word, dtype: int64"
      ]
     },
     "execution_count": 33,
     "metadata": {
      "tags": []
     },
     "output_type": "execute_result"
    }
   ],
   "source": [
    "quora_train['count_word'].describe().astype('int')"
   ]
  },
  {
   "cell_type": "code",
   "execution_count": 0,
   "metadata": {
    "colab": {},
    "colab_type": "code",
    "collapsed": true,
    "id": "lgPW2JxgwW7R"
   },
   "outputs": [],
   "source": [
    "ls_sequence = list(quora_train.question_norm)"
   ]
  },
  {
   "cell_type": "code",
   "execution_count": 0,
   "metadata": {
    "colab": {
     "base_uri": "https://localhost:8080/",
     "height": 34
    },
    "colab_type": "code",
    "id": "r6hdKgz04JZ1",
    "outputId": "9ea41ac9-be36-4b14-bce9-a06f33435539"
   },
   "outputs": [
    {
     "data": {
      "text/plain": [
       "204008"
      ]
     },
     "execution_count": 33,
     "metadata": {
      "tags": []
     },
     "output_type": "execute_result"
    }
   ],
   "source": [
    "# count the word number in the train set\n",
    "str_senquence = \" \".join(ls_sequence)\n",
    "ls_word = list(set(str_senquence.split()))\n",
    "len(ls_word)"
   ]
  },
  {
   "cell_type": "markdown",
   "metadata": {
    "colab_type": "text",
    "id": "Qgq6tTWz66W9"
   },
   "source": [
    "2.2 target distribution"
   ]
  },
  {
   "cell_type": "code",
   "execution_count": 0,
   "metadata": {
    "colab": {
     "base_uri": "https://localhost:8080/",
     "height": 68
    },
    "colab_type": "code",
    "id": "bq0fl6bw4b9h",
    "outputId": "217d6269-9e45-446f-883a-34e6856d94b6"
   },
   "outputs": [
    {
     "data": {
      "text/plain": [
       "0    1225312\n",
       "1      80810\n",
       "Name: target, dtype: int64"
      ]
     },
     "execution_count": 34,
     "metadata": {
      "tags": []
     },
     "output_type": "execute_result"
    }
   ],
   "source": [
    "df_count_target = quora_train.target.value_counts()\n",
    "df_count_target"
   ]
  },
  {
   "cell_type": "code",
   "execution_count": 0,
   "metadata": {
    "colab": {},
    "colab_type": "code",
    "collapsed": true,
    "id": "SIS2X4727egj"
   },
   "outputs": [],
   "source": [
    "sns.set(style = \"whitegrid\")"
   ]
  },
  {
   "cell_type": "code",
   "execution_count": 0,
   "metadata": {
    "colab": {
     "base_uri": "https://localhost:8080/",
     "height": 372
    },
    "colab_type": "code",
    "id": "WtxLDg4v_Fgt",
    "outputId": "0fefc538-deaa-4f94-bc4a-16abb156f83a"
   },
   "outputs": [
    {
     "data": {
      "text/plain": [
       "Text(0.5, 1.0, 'Target Count')"
      ]
     },
     "execution_count": 36,
     "metadata": {
      "tags": []
     },
     "output_type": "execute_result"
    },
    {
     "data": {
      "image/png": "[encoded data removed]",
      "text/plain": [
       "<Figure size 720x360 with 1 Axes>"
      ]
     },
     "metadata": {
      "tags": []
     },
     "output_type": "display_data"
    }
   ],
   "source": [
    "# target count\n",
    "plt.figure(figsize= (10, 5))\n",
    "plt.bar(df_count_target.index, df_count_target.values, label = df_count_target.index)\n",
    "plt.xticks( df_count_target.index)\n",
    "plt.xlabel('labels')\n",
    "plt.ylabel('sizes')\n",
    "plt.title('Target Count')"
   ]
  },
  {
   "cell_type": "code",
   "execution_count": 0,
   "metadata": {
    "colab": {
     "base_uri": "https://localhost:8080/",
     "height": 327
    },
    "colab_type": "code",
    "id": "W6wE_n7q7oml",
    "outputId": "b54be37d-226a-4613-91fe-5c701a068f1d"
   },
   "outputs": [
    {
     "name": "stdout",
     "output_type": "stream",
     "text": [
      "[0 1]\n",
      "[93.81298225  6.18701775]\n"
     ]
    },
    {
     "data": {
      "image/png": "[encoded data removed]",
      "text/plain": [
       "<Figure size 432x288 with 1 Axes>"
      ]
     },
     "metadata": {
      "tags": []
     },
     "output_type": "display_data"
    }
   ],
   "source": [
    "# target distribution\n",
    "labels = np.array(df_count_target.index)\n",
    "sizes = np.array((df_count_target/df_count_target.sum())*100)\n",
    "colors = ['gold', 'yellowgreen']\n",
    "print(labels)\n",
    "print(sizes)\n",
    "fig1, ax1 = plt.subplots()\n",
    "ax1.pie(sizes, labels, colors= colors, autopct = '%1.1f%%', startangle= 140)\n",
    "plt.legend(labels, loc= \"best\")\n",
    "plt.axis('equal')\n",
    "plt.tight_layout()\n",
    "plt.show()"
   ]
  },
  {
   "cell_type": "markdown",
   "metadata": {
    "colab_type": "text",
    "id": "jAwQ6Iut_5lx"
   },
   "source": [
    "2.3 word, bigram, trigram frequency plot of sincere & insincere question use n-gram"
   ]
  },
  {
   "cell_type": "code",
   "execution_count": 0,
   "metadata": {
    "colab": {
     "base_uri": "https://localhost:8080/",
     "height": 34
    },
    "colab_type": "code",
    "id": "KRwQD1-BA_Sj",
    "outputId": "a78583a7-ceb9-4815-fa1f-a8bfeca20425"
   },
   "outputs": [
    {
     "data": {
      "text/plain": [
       "Index(['qid', 'question_text', 'target', 'question_norm', 'count_word'], dtype='object')"
      ]
     },
     "execution_count": 38,
     "metadata": {
      "tags": []
     },
     "output_type": "execute_result"
    }
   ],
   "source": [
    "quora_train.columns"
   ]
  },
  {
   "cell_type": "code",
   "execution_count": 0,
   "metadata": {
    "colab": {},
    "colab_type": "code",
    "collapsed": true,
    "id": "5xU1vxxSA_JT"
   },
   "outputs": [],
   "source": [
    "quora_train = quora_train[['target', 'question_text']]"
   ]
  },
  {
   "cell_type": "code",
   "execution_count": 0,
   "metadata": {
    "colab": {},
    "colab_type": "code",
    "collapsed": true,
    "id": "pps9nPQE_v8E"
   },
   "outputs": [],
   "source": [
    "from collections import defaultdict\n",
    "# create a dataframe, train1_df, contain the insincere data\n",
    "train1_df = quora_train[quora_train[\"target\"] == 1]\n",
    "# create a dataframe, train0_df, contain the sincere data\n",
    "train0_df = quora_train[quora_train[\"target\"] == 0]"
   ]
  },
  {
   "cell_type": "code",
   "execution_count": 0,
   "metadata": {
    "colab": {},
    "colab_type": "code",
    "collapsed": true,
    "id": "oA7qSyxXAi96"
   },
   "outputs": [],
   "source": [
    "# custom function for ngram generator\n",
    "def generate_ngrams(text, n_gram= 3):\n",
    "  token = [token for token in text.lower().split(\" \") if token != \"\" if token not in STOP_WORDS]\n",
    "  #print(token)\n",
    "  ngrams = zip(*[token[i:] for i in range(n_gram)])\n",
    "  #print(ngrams)\n",
    "  return \"|\".join([\" \".join(ngram) for ngram in ngrams])"
   ]
  },
  {
   "cell_type": "code",
   "execution_count": 0,
   "metadata": {
    "colab": {
     "base_uri": "https://localhost:8080/",
     "height": 68
    },
    "colab_type": "code",
    "id": "XXQhI_aAAmKv",
    "outputId": "baccab4e-b214-40fd-8134-dc927ccf7d30"
   },
   "outputs": [
    {
     "name": "stdout",
     "output_type": "stream",
     "text": [
      "How did Quebec nationalists see their province as a nation in the 1960s?\n",
      "quebec nationalists|nationalists province|province nation|nation 1960s?\n",
      "quebec|nationalists|province|nation|1960s?\n"
     ]
    }
   ],
   "source": [
    "print(quora_train.loc[0, 'question_text'])\n",
    "print(generate_ngrams(quora_train.loc[0, 'question_text'], 2))\n",
    "print(generate_ngrams(quora_train.loc[0, 'question_text'], 1))"
   ]
  },
  {
   "cell_type": "code",
   "execution_count": 0,
   "metadata": {
    "colab": {},
    "colab_type": "code",
    "collapsed": true,
    "id": "Tp7Pye0DFXnP"
   },
   "outputs": [],
   "source": [
    "train0_df= train0_df.reset_index()\n",
    "train0_df = train0_df.drop('index', axis= 1)\n",
    "train1_df= train1_df.reset_index()\n",
    "train1_df = train1_df.drop('index', axis= 1)"
   ]
  },
  {
   "cell_type": "code",
   "execution_count": 0,
   "metadata": {
    "colab": {
     "base_uri": "https://localhost:8080/",
     "height": 111
    },
    "colab_type": "code",
    "id": "OtSbhj4mAqpA",
    "outputId": "e4376da6-70e1-4bfd-d9e7-6bbe14ea14f5"
   },
   "outputs": [
    {
     "data": {
      "text/html": [
       "<div>\n",
       "<style scoped>\n",
       "    .dataframe tbody tr th:only-of-type {\n",
       "        vertical-align: middle;\n",
       "    }\n",
       "\n",
       "    .dataframe tbody tr th {\n",
       "        vertical-align: top;\n",
       "    }\n",
       "\n",
       "    .dataframe thead th {\n",
       "        text-align: right;\n",
       "    }\n",
       "</style>\n",
       "<table border=\"1\" class=\"dataframe\">\n",
       "  <thead>\n",
       "    <tr style=\"text-align: right;\">\n",
       "      <th></th>\n",
       "      <th>target</th>\n",
       "      <th>question_text</th>\n",
       "    </tr>\n",
       "  </thead>\n",
       "  <tbody>\n",
       "    <tr>\n",
       "      <th>0</th>\n",
       "      <td>0</td>\n",
       "      <td>How did Quebec nationalists see their province...</td>\n",
       "    </tr>\n",
       "    <tr>\n",
       "      <th>1</th>\n",
       "      <td>0</td>\n",
       "      <td>Do you have an adopted dog, how would you enco...</td>\n",
       "    </tr>\n",
       "  </tbody>\n",
       "</table>\n",
       "</div>"
      ],
      "text/plain": [
       "   target                                      question_text\n",
       "0       0  How did Quebec nationalists see their province...\n",
       "1       0  Do you have an adopted dog, how would you enco..."
      ]
     },
     "execution_count": 45,
     "metadata": {
      "tags": []
     },
     "output_type": "execute_result"
    }
   ],
   "source": [
    "train0_df.head(2)"
   ]
  },
  {
   "cell_type": "code",
   "execution_count": 0,
   "metadata": {
    "colab": {},
    "colab_type": "code",
    "collapsed": true,
    "id": "CxMH4zpRC4hy"
   },
   "outputs": [],
   "source": [
    "train0_df['word_frequency'] = train0_df['question_text'].apply(generate_ngrams)\n",
    "train1_df['word_frequency'] = train1_df['question_text'].apply(generate_ngrams)"
   ]
  },
  {
   "cell_type": "code",
   "execution_count": 0,
   "metadata": {
    "colab": {},
    "colab_type": "code",
    "collapsed": true,
    "id": "gtOue-lpDO-r"
   },
   "outputs": [],
   "source": [
    "train0_df['biggram_frequency'] = train0_df['question_text'].apply(generate_ngrams)\n",
    "train1_df['biggram_frequency'] = train1_df['question_text'].apply(generate_ngrams)"
   ]
  },
  {
   "cell_type": "code",
   "execution_count": 0,
   "metadata": {
    "colab": {},
    "colab_type": "code",
    "collapsed": true,
    "id": "Q64uVRnZDqFe"
   },
   "outputs": [],
   "source": [
    "train0_df['trigram_frequency'] = train0_df['question_text'].apply(generate_ngrams)\n",
    "train1_df['trigram_frequency'] = train1_df['question_text'].apply(generate_ngrams)"
   ]
  },
  {
   "cell_type": "code",
   "execution_count": 0,
   "metadata": {
    "colab": {
     "base_uri": "https://localhost:8080/",
     "height": 111
    },
    "colab_type": "code",
    "id": "UZaP-RZHDrDp",
    "outputId": "7a60d9b7-2ac8-4148-ce5e-68ab3f45718c"
   },
   "outputs": [
    {
     "data": {
      "text/html": [
       "<div>\n",
       "<style scoped>\n",
       "    .dataframe tbody tr th:only-of-type {\n",
       "        vertical-align: middle;\n",
       "    }\n",
       "\n",
       "    .dataframe tbody tr th {\n",
       "        vertical-align: top;\n",
       "    }\n",
       "\n",
       "    .dataframe thead th {\n",
       "        text-align: right;\n",
       "    }\n",
       "</style>\n",
       "<table border=\"1\" class=\"dataframe\">\n",
       "  <thead>\n",
       "    <tr style=\"text-align: right;\">\n",
       "      <th></th>\n",
       "      <th>target</th>\n",
       "      <th>question_text</th>\n",
       "      <th>word_frequency</th>\n",
       "      <th>biggram_frequency</th>\n",
       "      <th>trigram_frequency</th>\n",
       "    </tr>\n",
       "  </thead>\n",
       "  <tbody>\n",
       "    <tr>\n",
       "      <th>0</th>\n",
       "      <td>0</td>\n",
       "      <td>How did Quebec nationalists see their province...</td>\n",
       "      <td>quebec|nationalists|province|nation|1960s?</td>\n",
       "      <td>quebec nationalists|nationalists province|prov...</td>\n",
       "      <td>quebec nationalists province|nationalists prov...</td>\n",
       "    </tr>\n",
       "    <tr>\n",
       "      <th>1</th>\n",
       "      <td>0</td>\n",
       "      <td>Do you have an adopted dog, how would you enco...</td>\n",
       "      <td>adopted|dog,|encourage|people|adopt|shop?</td>\n",
       "      <td>adopted dog,|dog, encourage|encourage people|p...</td>\n",
       "      <td>adopted dog, encourage|dog, encourage people|e...</td>\n",
       "    </tr>\n",
       "  </tbody>\n",
       "</table>\n",
       "</div>"
      ],
      "text/plain": [
       "   target                                      question_text  \\\n",
       "0       0  How did Quebec nationalists see their province...   \n",
       "1       0  Do you have an adopted dog, how would you enco...   \n",
       "\n",
       "                               word_frequency  \\\n",
       "0  quebec|nationalists|province|nation|1960s?   \n",
       "1   adopted|dog,|encourage|people|adopt|shop?   \n",
       "\n",
       "                                   biggram_frequency  \\\n",
       "0  quebec nationalists|nationalists province|prov...   \n",
       "1  adopted dog,|dog, encourage|encourage people|p...   \n",
       "\n",
       "                                   trigram_frequency  \n",
       "0  quebec nationalists province|nationalists prov...  \n",
       "1  adopted dog, encourage|dog, encourage people|e...  "
      ]
     },
     "execution_count": 52,
     "metadata": {
      "tags": []
     },
     "output_type": "execute_result"
    }
   ],
   "source": [
    "train0_df.head(2)"
   ]
  },
  {
   "cell_type": "code",
   "execution_count": 0,
   "metadata": {
    "colab": {},
    "colab_type": "code",
    "collapsed": true,
    "id": "7ohLv6OOD3T8"
   },
   "outputs": [],
   "source": [
    "# save file xlsx\n",
    "# writer = pd.ExcelWriter('/content/drive/My Drive/Colab Notebooks/project_final/quora-insincere-questions-classification/sincere.xlsx', engine= 'xlsxwriter')\n",
    "# train0_df.to_excel(writer, 'Sheet1')\n",
    "# writer.save()\n",
    "\n",
    "# writer1 = pd.ExcelWriter('/content/drive/My Drive/Colab Notebooks/project_final/quora-insincere-questions-classification/insincere.xlsx', engine= 'xlsxwriter')\n",
    "# train1_df.to_excel(writer1, 'Sheet1')\n",
    "# writer.save()"
   ]
  },
  {
   "cell_type": "code",
   "execution_count": 0,
   "metadata": {
    "colab": {
     "base_uri": "https://localhost:8080/",
     "height": 51
    },
    "colab_type": "code",
    "id": "4fMT4AtTHKMc",
    "outputId": "38d09883-fecd-4e62-ee3d-8ca96649da16"
   },
   "outputs": [
    {
     "name": "stdout",
     "output_type": "stream",
     "text": [
      "['quebec', 'nationalists', 'province']\n",
      "['united', 'states', 'largest']\n"
     ]
    }
   ],
   "source": [
    "# words\n",
    "ls_word_sincere = \"|\".join(list(train0_df.word_frequency.values))\n",
    "ls_word_sincere = ls_word_sincere.split('|')\n",
    "print(ls_word_sincere[:3])\n",
    "ls_word_insincere = \"|\".join(list(train1_df.word_frequency.values))\n",
    "ls_word_insincere = ls_word_insincere.split('|')\n",
    "print(ls_word_insincere[:3])"
   ]
  },
  {
   "cell_type": "code",
   "execution_count": 0,
   "metadata": {
    "colab": {},
    "colab_type": "code",
    "collapsed": true,
    "id": "hP11CkG6HKJr"
   },
   "outputs": [],
   "source": [
    "# create a new dataframe, df_word_sincere, contain the list of the words in all sincere sentences\n",
    "df_word_sincere = pd.DataFrame()\n",
    "df_word_sincere['word'] = ls_word_sincere\n",
    "df_word_sincere = df_word_sincere['word'].value_counts().to_frame()\n",
    "df_word_sincere = df_word_sincere.reset_index()\n",
    "df_word_sincere.columns = [\"word\", \"wordcount\"]\n",
    "# create a new dataframe, df_word_insincere, contain the list of the words in all sincere sentences\n",
    "df_word_insincere = pd.DataFrame()\n",
    "df_word_insincere['word'] = ls_word_insincere\n",
    "df_word_insincere = df_word_insincere['word'].value_counts().to_frame()\n",
    "df_word_insincere = df_word_insincere.reset_index()\n",
    "df_word_insincere.columns = [\"word\", \"wordcount\"]"
   ]
  },
  {
   "cell_type": "code",
   "execution_count": 0,
   "metadata": {
    "colab": {
     "base_uri": "https://localhost:8080/",
     "height": 111
    },
    "colab_type": "code",
    "id": "3eOuYRRpHKHE",
    "outputId": "c5366c2c-6113-4f2b-df9c-f48f8d3437b4"
   },
   "outputs": [
    {
     "data": {
      "text/html": [
       "<div>\n",
       "<style scoped>\n",
       "    .dataframe tbody tr th:only-of-type {\n",
       "        vertical-align: middle;\n",
       "    }\n",
       "\n",
       "    .dataframe tbody tr th {\n",
       "        vertical-align: top;\n",
       "    }\n",
       "\n",
       "    .dataframe thead th {\n",
       "        text-align: right;\n",
       "    }\n",
       "</style>\n",
       "<table border=\"1\" class=\"dataframe\">\n",
       "  <thead>\n",
       "    <tr style=\"text-align: right;\">\n",
       "      <th></th>\n",
       "      <th>word</th>\n",
       "      <th>wordcount</th>\n",
       "    </tr>\n",
       "  </thead>\n",
       "  <tbody>\n",
       "    <tr>\n",
       "      <th>0</th>\n",
       "      <td>people</td>\n",
       "      <td>11036</td>\n",
       "    </tr>\n",
       "    <tr>\n",
       "      <th>1</th>\n",
       "      <td>like</td>\n",
       "      <td>5708</td>\n",
       "    </tr>\n",
       "  </tbody>\n",
       "</table>\n",
       "</div>"
      ],
      "text/plain": [
       "     word  wordcount\n",
       "0  people      11036\n",
       "1    like       5708"
      ]
     },
     "execution_count": 55,
     "metadata": {
      "tags": []
     },
     "output_type": "execute_result"
    }
   ],
   "source": [
    "df_word_insincere.head(2)"
   ]
  },
  {
   "cell_type": "code",
   "execution_count": 0,
   "metadata": {
    "colab": {
     "base_uri": "https://localhost:8080/",
     "height": 111
    },
    "colab_type": "code",
    "id": "967iDFvQHKEY",
    "outputId": "f14ee6e1-216f-4a9d-cf80-35334cbadf1d"
   },
   "outputs": [
    {
     "data": {
      "text/html": [
       "<div>\n",
       "<style scoped>\n",
       "    .dataframe tbody tr th:only-of-type {\n",
       "        vertical-align: middle;\n",
       "    }\n",
       "\n",
       "    .dataframe tbody tr th {\n",
       "        vertical-align: top;\n",
       "    }\n",
       "\n",
       "    .dataframe thead th {\n",
       "        text-align: right;\n",
       "    }\n",
       "</style>\n",
       "<table border=\"1\" class=\"dataframe\">\n",
       "  <thead>\n",
       "    <tr style=\"text-align: right;\">\n",
       "      <th></th>\n",
       "      <th>word</th>\n",
       "      <th>wordcount</th>\n",
       "    </tr>\n",
       "  </thead>\n",
       "  <tbody>\n",
       "    <tr>\n",
       "      <th>0</th>\n",
       "      <td>best</td>\n",
       "      <td>60816</td>\n",
       "    </tr>\n",
       "    <tr>\n",
       "      <th>1</th>\n",
       "      <td>people</td>\n",
       "      <td>37960</td>\n",
       "    </tr>\n",
       "  </tbody>\n",
       "</table>\n",
       "</div>"
      ],
      "text/plain": [
       "     word  wordcount\n",
       "0    best      60816\n",
       "1  people      37960"
      ]
     },
     "execution_count": 56,
     "metadata": {
      "tags": []
     },
     "output_type": "execute_result"
    }
   ],
   "source": [
    "df_word_sincere.head(2)"
   ]
  },
  {
   "cell_type": "code",
   "execution_count": 0,
   "metadata": {
    "colab": {
     "base_uri": "https://localhost:8080/",
     "height": 34
    },
    "colab_type": "code",
    "id": "t1IEuYUGLvC6",
    "outputId": "a9c4005a-50d7-462f-bdc6-ab990d947638"
   },
   "outputs": [
    {
     "name": "stdout",
     "output_type": "stream",
     "text": [
      "['slightest', 'soil?', 'power.']\n"
     ]
    }
   ],
   "source": [
    "ls_insincere_ex = list(df_word_insincere[df_word_insincere.wordcount <=10].word.values)\n",
    "ls_sincere_ex = list(df_word_sincere[df_word_sincere.wordcount <=10].word.values)\n",
    "print(ls_insincere_ex[:3])"
   ]
  },
  {
   "cell_type": "code",
   "execution_count": 0,
   "metadata": {
    "colab": {
     "base_uri": "https://localhost:8080/",
     "height": 34
    },
    "colab_type": "code",
    "id": "Y8A0F-39Q_1t",
    "outputId": "ae05a267-99ab-4797-93eb-ccfa187a81f1"
   },
   "outputs": [
    {
     "data": {
      "text/plain": [
       "453013"
      ]
     },
     "execution_count": 59,
     "metadata": {
      "tags": []
     },
     "output_type": "execute_result"
    }
   ],
   "source": [
    "ls_excess_word = ls_insincere_ex + ls_sincere_ex\n",
    "len(ls_excess_word)"
   ]
  },
  {
   "cell_type": "code",
   "execution_count": 0,
   "metadata": {
    "colab": {
     "base_uri": "https://localhost:8080/",
     "height": 34
    },
    "colab_type": "code",
    "id": "Y8A0F-39Q_1t",
    "outputId": "ae05a267-99ab-4797-93eb-ccfa187a81f1"
   },
   "outputs": [
    {
     "data": {
      "text/plain": [
       "453013"
      ]
     },
     "execution_count": 59,
     "metadata": {
      "tags": []
     },
     "output_type": "execute_result"
    }
   ],
   "source": [
    "ex_w = \"\\n\".join(ls_excess_word)\n",
    "# Append-adds at last \n",
    "file1 = open(\"/content/drive/My Drive/Colab Notebooks/project_final/quora-insincere-questions-classification/excess_word.txt\",\"w\")#append mode \n",
    "file1.write(ex_w) \n",
    "file1.close()"
   ]
  },
  {
   "cell_type": "code",
   "execution_count": 0,
   "metadata": {
    "colab": {
     "base_uri": "https://localhost:8080/",
     "height": 142
    },
    "colab_type": "code",
    "id": "ohXkr0HcLoYK",
    "outputId": "326a52cc-a1f2-4b65-91da-1f92798ebb22"
   },
   "outputs": [
    {
     "data": {
      "text/html": [
       "<div>\n",
       "<style scoped>\n",
       "    .dataframe tbody tr th:only-of-type {\n",
       "        vertical-align: middle;\n",
       "    }\n",
       "\n",
       "    .dataframe tbody tr th {\n",
       "        vertical-align: top;\n",
       "    }\n",
       "\n",
       "    .dataframe thead th {\n",
       "        text-align: right;\n",
       "    }\n",
       "</style>\n",
       "<table border=\"1\" class=\"dataframe\">\n",
       "  <thead>\n",
       "    <tr style=\"text-align: right;\">\n",
       "      <th></th>\n",
       "      <th>word</th>\n",
       "      <th>wordcount</th>\n",
       "    </tr>\n",
       "  </thead>\n",
       "  <tbody>\n",
       "    <tr>\n",
       "      <th>2</th>\n",
       "      <td>trump</td>\n",
       "      <td>4893</td>\n",
       "    </tr>\n",
       "    <tr>\n",
       "      <th>1</th>\n",
       "      <td>like</td>\n",
       "      <td>5708</td>\n",
       "    </tr>\n",
       "    <tr>\n",
       "      <th>0</th>\n",
       "      <td>people</td>\n",
       "      <td>11036</td>\n",
       "    </tr>\n",
       "  </tbody>\n",
       "</table>\n",
       "</div>"
      ],
      "text/plain": [
       "     word  wordcount\n",
       "2   trump       4893\n",
       "1    like       5708\n",
       "0  people      11036"
      ]
     },
     "execution_count": 60,
     "metadata": {
      "tags": []
     },
     "output_type": "execute_result"
    }
   ],
   "source": [
    "df_word_insincere.head(3).iloc[::-1, :]"
   ]
  },
  {
   "cell_type": "code",
   "execution_count": 0,
   "metadata": {
    "colab": {
     "base_uri": "https://localhost:8080/",
     "height": 355
    },
    "colab_type": "code",
    "id": "LXet6U7hHKBc",
    "outputId": "185c6f55-920e-4d0c-b89e-8717b643f801"
   },
   "outputs": [
    {
     "data": {
      "image/png": "[encoded data removed]",
      "text/plain": [
       "<Figure size 1080x360 with 2 Axes>"
      ]
     },
     "metadata": {
      "tags": []
     },
     "output_type": "display_data"
    }
   ],
   "source": [
    "# top 15 most popular words of sincere and insincere question\n",
    "df0 = df_word_sincere.head(15).iloc[::-1, :]\n",
    "df0 = df0.reset_index()\n",
    "df0 = df0.drop(columns= ['index'], axis= 1)\n",
    "df1 = df_word_insincere.head(15).iloc[::-1, :]\n",
    "df1 = df1.reset_index()\n",
    "df1 = df1.drop(columns= [\"index\"], axis = 1)\n",
    "\n",
    "plt.figure(figsize= (15,5))\n",
    "plt.subplot(1, 2, 1)\n",
    "plt.barh(np.array(df0.index), np.array(df0.wordcount), align= \"center\", alpha= 0.4)\n",
    "plt.title('sincere')\n",
    "plt.yticks(df0.index, df0.word, fontsize= 10)\n",
    "plt.legend(df0.index, df0.word, loc= \"best\", prop= {'size': 10})\n",
    "plt.xlabel('frequency')\n",
    "plt.ylabel('word')\n",
    "\n",
    "plt.subplot(1, 2, 2)\n",
    "plt.barh(df1.index, df1.wordcount, align= \"center\", alpha = 0.4)\n",
    "plt.legend(df1.index, df1.word, loc= \"best\", prop= {'size': 10})\n",
    "plt.title('insincere')\n",
    "plt.yticks(df1.index, df1.word, fontsize= 10)\n",
    "plt.xlabel('frequency')\n",
    "plt.ylabel('word')\n",
    "\n",
    "plt.show()"
   ]
  },
  {
   "cell_type": "code",
   "execution_count": 0,
   "metadata": {
    "colab": {
     "base_uri": "https://localhost:8080/",
     "height": 51
    },
    "colab_type": "code",
    "id": "LQMVAMDYOHCN",
    "outputId": "6af9a0fc-b2f8-4a07-b30e-44efb0cd58a1"
   },
   "outputs": [
    {
     "name": "stdout",
     "output_type": "stream",
     "text": [
      "['quebec nationalists', 'nationalists province', 'province nation']\n",
      "['united states', 'states largest', 'largest dictatorship']\n"
     ]
    }
   ],
   "source": [
    "# bigram\n",
    "ls_bigram_sincere = \"|\".join(list(train0_df.biggram_frequency.values))\n",
    "ls_bigram_sincere = ls_bigram_sincere.split('|')\n",
    "print(ls_bigram_sincere[:3])\n",
    "ls_bigram_insincere = \"|\".join(list(train1_df.biggram_frequency.values))\n",
    "ls_bigram_insincere = ls_bigram_insincere.split('|')\n",
    "print(ls_bigram_insincere[:3])"
   ]
  },
  {
   "cell_type": "code",
   "execution_count": 0,
   "metadata": {
    "colab": {},
    "colab_type": "code",
    "collapsed": true,
    "id": "JqSBHvjzHJ-b"
   },
   "outputs": [],
   "source": [
    "# create a new dataframe, df_bigram_sincere, contain the list of the bigrams in all sincere sentences\n",
    "df_bigram_sincere = pd.DataFrame()\n",
    "df_bigram_sincere['word'] = ls_bigram_sincere\n",
    "df_bigram_sincere = df_bigram_sincere['word'].value_counts().to_frame()\n",
    "df_bigram_sincere = df_bigram_sincere.reset_index()\n",
    "df_bigram_sincere.columns = [\"bigram\", \"bigramcount\"]\n",
    "# create a new dataframe, df_bigram_insincere, contain the list of the bigram in all sincere sentences\n",
    "df_bigram_insincere = pd.DataFrame()\n",
    "df_bigram_insincere['word'] = ls_bigram_insincere\n",
    "df_bigram_insincere = df_bigram_insincere['word'].value_counts().to_frame()\n",
    "df_bigram_insincere = df_bigram_insincere.reset_index()\n",
    "df_bigram_insincere.columns = [\"bigram\", \"bigramcount\"]"
   ]
  },
  {
   "cell_type": "code",
   "execution_count": 0,
   "metadata": {
    "colab": {
     "base_uri": "https://localhost:8080/",
     "height": 111
    },
    "colab_type": "code",
    "id": "iN5PFQa2HJ7d",
    "outputId": "bbb57b80-6abf-44fd-ad5d-83001c0dd1ad"
   },
   "outputs": [
    {
     "data": {
      "text/html": [
       "<div>\n",
       "<style scoped>\n",
       "    .dataframe tbody tr th:only-of-type {\n",
       "        vertical-align: middle;\n",
       "    }\n",
       "\n",
       "    .dataframe tbody tr th {\n",
       "        vertical-align: top;\n",
       "    }\n",
       "\n",
       "    .dataframe thead th {\n",
       "        text-align: right;\n",
       "    }\n",
       "</style>\n",
       "<table border=\"1\" class=\"dataframe\">\n",
       "  <thead>\n",
       "    <tr style=\"text-align: right;\">\n",
       "      <th></th>\n",
       "      <th>bigram</th>\n",
       "      <th>bigramcount</th>\n",
       "    </tr>\n",
       "  </thead>\n",
       "  <tbody>\n",
       "    <tr>\n",
       "      <th>0</th>\n",
       "      <td></td>\n",
       "      <td>8654</td>\n",
       "    </tr>\n",
       "    <tr>\n",
       "      <th>1</th>\n",
       "      <td>best way</td>\n",
       "      <td>6974</td>\n",
       "    </tr>\n",
       "  </tbody>\n",
       "</table>\n",
       "</div>"
      ],
      "text/plain": [
       "     bigram  bigramcount\n",
       "0                   8654\n",
       "1  best way         6974"
      ]
     },
     "execution_count": 64,
     "metadata": {
      "tags": []
     },
     "output_type": "execute_result"
    }
   ],
   "source": [
    "df_bigram_sincere.head(2)"
   ]
  },
  {
   "cell_type": "code",
   "execution_count": 0,
   "metadata": {
    "colab": {},
    "colab_type": "code",
    "collapsed": true,
    "id": "je33h9fMPgij"
   },
   "outputs": [],
   "source": [
    "df_bigram_sincere = df_bigram_sincere.drop([0], axis= 0)"
   ]
  },
  {
   "cell_type": "code",
   "execution_count": 0,
   "metadata": {
    "colab": {},
    "colab_type": "code",
    "collapsed": true,
    "id": "HN25vqxwQBMe"
   },
   "outputs": [],
   "source": [
    "df_bigram_sincere = df_bigram_sincere.reset_index()\n",
    "df_bigram_sincere = df_bigram_sincere.drop('index', axis= 1)"
   ]
  },
  {
   "cell_type": "code",
   "execution_count": 0,
   "metadata": {
    "colab": {
     "base_uri": "https://localhost:8080/",
     "height": 111
    },
    "colab_type": "code",
    "id": "LBa-rPbYQA_B",
    "outputId": "eb0b64af-0ee1-4420-b738-cba25533718c"
   },
   "outputs": [
    {
     "data": {
      "text/html": [
       "<div>\n",
       "<style scoped>\n",
       "    .dataframe tbody tr th:only-of-type {\n",
       "        vertical-align: middle;\n",
       "    }\n",
       "\n",
       "    .dataframe tbody tr th {\n",
       "        vertical-align: top;\n",
       "    }\n",
       "\n",
       "    .dataframe thead th {\n",
       "        text-align: right;\n",
       "    }\n",
       "</style>\n",
       "<table border=\"1\" class=\"dataframe\">\n",
       "  <thead>\n",
       "    <tr style=\"text-align: right;\">\n",
       "      <th></th>\n",
       "      <th>bigram</th>\n",
       "      <th>bigramcount</th>\n",
       "    </tr>\n",
       "  </thead>\n",
       "  <tbody>\n",
       "    <tr>\n",
       "      <th>0</th>\n",
       "      <td>best way</td>\n",
       "      <td>6974</td>\n",
       "    </tr>\n",
       "    <tr>\n",
       "      <th>1</th>\n",
       "      <td>year old</td>\n",
       "      <td>2972</td>\n",
       "    </tr>\n",
       "  </tbody>\n",
       "</table>\n",
       "</div>"
      ],
      "text/plain": [
       "     bigram  bigramcount\n",
       "0  best way         6974\n",
       "1  year old         2972"
      ]
     },
     "execution_count": 80,
     "metadata": {
      "tags": []
     },
     "output_type": "execute_result"
    }
   ],
   "source": [
    "df_bigram_sincere.head(2)"
   ]
  },
  {
   "cell_type": "code",
   "execution_count": 0,
   "metadata": {
    "colab": {
     "base_uri": "https://localhost:8080/",
     "height": 34
    },
    "colab_type": "code",
    "id": "sEiVMzYPRnXx",
    "outputId": "d8a709b7-37d3-4366-ab1e-ad3e0cd78bf4"
   },
   "outputs": [
    {
     "data": {
      "text/plain": [
       "(15, 2)"
      ]
     },
     "execution_count": 70,
     "metadata": {
      "tags": []
     },
     "output_type": "execute_result"
    }
   ],
   "source": [
    "df_bigram_insincere[df_bigram_insincere.bigramcount >200].shape"
   ]
  },
  {
   "cell_type": "code",
   "execution_count": 0,
   "metadata": {
    "colab": {
     "base_uri": "https://localhost:8080/",
     "height": 34
    },
    "colab_type": "code",
    "id": "CJztGWtiRcZR",
    "outputId": "42c708ae-1b75-4b70-85ec-4c164bbea524"
   },
   "outputs": [
    {
     "data": {
      "text/plain": [
       "(77, 2)"
      ]
     },
     "execution_count": 68,
     "metadata": {
      "tags": []
     },
     "output_type": "execute_result"
    }
   ],
   "source": [
    "df_bigram_sincere[df_bigram_sincere.bigramcount >500].shape"
   ]
  },
  {
   "cell_type": "code",
   "execution_count": 0,
   "metadata": {
    "colab": {
     "base_uri": "https://localhost:8080/",
     "height": 34
    },
    "colab_type": "code",
    "id": "wNBbfmGWR10j",
    "outputId": "6839f011-5dff-4839-b359-2fda3c9a3b33"
   },
   "outputs": [
    {
     "data": {
      "text/plain": [
       "92"
      ]
     },
     "execution_count": 72,
     "metadata": {
      "tags": []
     },
     "output_type": "execute_result"
    }
   ],
   "source": [
    "ls_big_sin = list(df_bigram_sincere[df_bigram_sincere.bigramcount >500].bigram.values)\n",
    "ls_big_insin = list(df_bigram_insincere[df_bigram_insincere.bigramcount >200].bigram.values)\n",
    "ls_important_bigram = ls_big_sin + ls_big_insin\n",
    "len(ls_important_bigram)"
   ]
  },
  {
   "cell_type": "code",
   "execution_count": null,
   "metadata": {
    "collapsed": true
   },
   "outputs": [],
   "source": [
    "ls_important_bigram2 = []\n",
    "for i in range(len(ls_important_bigram)):\n",
    "    ls_important_bigram2.append(ls_important_bigram[i].strip().replace(' ', '_'))"
   ]
  },
  {
   "cell_type": "code",
   "execution_count": null,
   "metadata": {
    "collapsed": true
   },
   "outputs": [],
   "source": [
    "big_w1 = \"\\n\".join(ls_important_bigram)\n",
    "# Append-adds at last \n",
    "file1 = open(\"/content/drive/My Drive/Colab Notebooks/project_final/quora-insincere-questions-classification/bigram_word1.txt\",\"w\")#append mode \n",
    "file1.write(big_w1) \n",
    "file1.close()\n",
    "big_w2 = \"\\n\".join(ls_important_bigram2)\n",
    "# Append-adds at last \n",
    "file2 = open(\"/content/drive/My Drive/Colab Notebooks/project_final/quora-insincere-questions-classification/bigram_word2.txt\",\"w\")#append mode \n",
    "file2.write(big_w2) \n",
    "file2.close()"
   ]
  },
  {
   "cell_type": "code",
   "execution_count": null,
   "metadata": {
    "collapsed": true
   },
   "outputs": [],
   "source": []
  },
  {
   "cell_type": "code",
   "execution_count": 0,
   "metadata": {
    "colab": {
     "base_uri": "https://localhost:8080/",
     "height": 627
    },
    "colab_type": "code",
    "id": "2CEGKbH0HJ37",
    "outputId": "0ddd42f3-82e2-41d2-d3d6-13562e799ce8"
   },
   "outputs": [
    {
     "data": {
      "image/png": "[encoded data removed]",
      "text/plain": [
       "<Figure size 1800x720 with 2 Axes>"
      ]
     },
     "metadata": {
      "tags": []
     },
     "output_type": "display_data"
    }
   ],
   "source": [
    "# top 15 most popular bigram of sincere and insincere question\n",
    "df0 = df_bigram_sincere.head(15).iloc[::-1, :]\n",
    "df0 = df0.reset_index()\n",
    "df0 = df0.drop(columns= ['index'], axis= 1)\n",
    "df1 = df_bigram_insincere.head(15).iloc[::-1, :]\n",
    "df1 = df1.reset_index()\n",
    "df1 = df1.drop(columns= [\"index\"], axis = 1)\n",
    "\n",
    "plt.figure(figsize= (25,10))\n",
    "plt.subplot(1, 2, 1)\n",
    "plt.barh(np.array(df0.index), np.array(df0.bigramcount), align= \"center\", alpha= 0.4)\n",
    "plt.title('sincere')\n",
    "plt.yticks(df0.index, df0.bigram, fontsize= 10)\n",
    "plt.legend(df0.index, df0.bigram, loc= \"best\", prop= {'size': 10})\n",
    "plt.xlabel('frequency')\n",
    "plt.ylabel('bigram')\n",
    "\n",
    "plt.subplot(1, 2, 2)\n",
    "plt.barh(df1.index, df1.bigramcount, align= \"center\", alpha = 0.4)\n",
    "plt.legend(df1.index, df1.bigram, loc= \"best\", prop= {'size': 10})\n",
    "plt.title('insincere')\n",
    "plt.yticks(df1.index, df1.bigram, fontsize= 10)\n",
    "plt.xlabel('frequency')\n",
    "plt.ylabel('bigram')\n",
    "\n",
    "plt.show()"
   ]
  },
  {
   "cell_type": "code",
   "execution_count": 0,
   "metadata": {
    "colab": {
     "base_uri": "https://localhost:8080/",
     "height": 51
    },
    "colab_type": "code",
    "id": "8tyH1gwhHJx0",
    "outputId": "66ba63b7-bf23-4bdd-c4ec-42d0d06fac5d"
   },
   "outputs": [
    {
     "name": "stdout",
     "output_type": "stream",
     "text": [
      "['quebec nationalists province', 'nationalists province nation', 'province nation 1960s?']\n",
      "['united states largest', 'states largest dictatorship', 'largest dictatorship world?']\n"
     ]
    }
   ],
   "source": [
    "# bigram\n",
    "ls_trigram_sincere = \"|\".join(list(train0_df.trigram_frequency.values))\n",
    "ls_trigram_sincere = ls_trigram_sincere.split('|')\n",
    "print(ls_trigram_sincere[:3])\n",
    "ls_trigram_insincere = \"|\".join(list(train1_df.trigram_frequency.values))\n",
    "ls_trigram_insincere = ls_trigram_insincere.split('|')\n",
    "print(ls_trigram_insincere[:3])"
   ]
  },
  {
   "cell_type": "code",
   "execution_count": 0,
   "metadata": {
    "colab": {},
    "colab_type": "code",
    "collapsed": true,
    "id": "wlayM7qhHJoS"
   },
   "outputs": [],
   "source": [
    "# create a new dataframe, df_bigram_sincere, contain the list of the bigrams in all sincere sentences\n",
    "df_trigram_sincere = pd.DataFrame()\n",
    "df_trigram_sincere['word'] = ls_trigram_sincere\n",
    "df_trigram_sincere = df_trigram_sincere['word'].value_counts().to_frame()\n",
    "df_trigram_sincere = df_trigram_sincere.reset_index()\n",
    "df_trigram_sincere.columns = [\"bigram\", \"bigramcount\"]\n",
    "# create a new dataframe, df_bigram_insincere, contain the list of the bigram in all sincere sentences\n",
    "df_trigram_insincere = pd.DataFrame()\n",
    "df_trigram_insincere['word'] = ls_trigram_insincere\n",
    "df_trigram_insincere = df_trigram_insincere['word'].value_counts().to_frame()\n",
    "df_trigram_insincere = df_trigram_insincere.reset_index()\n",
    "df_trigram_insincere.columns = [\"bigram\", \"bigramcount\"]"
   ]
  },
  {
   "cell_type": "code",
   "execution_count": 0,
   "metadata": {
    "colab": {
     "base_uri": "https://localhost:8080/",
     "height": 111
    },
    "colab_type": "code",
    "id": "NNn4cDKiYd_B",
    "outputId": "3e3b5b33-eac5-4a5b-9c17-9e10c1c6a2d1"
   },
   "outputs": [
    {
     "data": {
      "text/html": [
       "<div>\n",
       "<style scoped>\n",
       "    .dataframe tbody tr th:only-of-type {\n",
       "        vertical-align: middle;\n",
       "    }\n",
       "\n",
       "    .dataframe tbody tr th {\n",
       "        vertical-align: top;\n",
       "    }\n",
       "\n",
       "    .dataframe thead th {\n",
       "        text-align: right;\n",
       "    }\n",
       "</style>\n",
       "<table border=\"1\" class=\"dataframe\">\n",
       "  <thead>\n",
       "    <tr style=\"text-align: right;\">\n",
       "      <th></th>\n",
       "      <th>bigram</th>\n",
       "      <th>bigramcount</th>\n",
       "    </tr>\n",
       "  </thead>\n",
       "  <tbody>\n",
       "    <tr>\n",
       "      <th>0</th>\n",
       "      <td></td>\n",
       "      <td>78525</td>\n",
       "    </tr>\n",
       "    <tr>\n",
       "      <th>1</th>\n",
       "      <td>what's best way</td>\n",
       "      <td>832</td>\n",
       "    </tr>\n",
       "  </tbody>\n",
       "</table>\n",
       "</div>"
      ],
      "text/plain": [
       "            bigram  bigramcount\n",
       "0                         78525\n",
       "1  what's best way          832"
      ]
     },
     "execution_count": 76,
     "metadata": {
      "tags": []
     },
     "output_type": "execute_result"
    }
   ],
   "source": [
    "df_trigram_sincere.head(2)"
   ]
  },
  {
   "cell_type": "code",
   "execution_count": 0,
   "metadata": {
    "colab": {},
    "colab_type": "code",
    "collapsed": true,
    "id": "SgmG-1nDYfVI"
   },
   "outputs": [],
   "source": [
    "df_trigram_sincere = df_trigram_sincere.drop([0], axis= 0)\n",
    "df_trigram_sincere = df_trigram_sincere.reset_index()\n",
    "df_trigram_sincere = df_trigram_sincere.drop('index', axis= 1)"
   ]
  },
  {
   "cell_type": "code",
   "execution_count": 0,
   "metadata": {
    "colab": {
     "base_uri": "https://localhost:8080/",
     "height": 111
    },
    "colab_type": "code",
    "id": "ROlJB5VCYfPo",
    "outputId": "637e3881-003f-42e6-a580-3233574e3c8c"
   },
   "outputs": [
    {
     "data": {
      "text/html": [
       "<div>\n",
       "<style scoped>\n",
       "    .dataframe tbody tr th:only-of-type {\n",
       "        vertical-align: middle;\n",
       "    }\n",
       "\n",
       "    .dataframe tbody tr th {\n",
       "        vertical-align: top;\n",
       "    }\n",
       "\n",
       "    .dataframe thead th {\n",
       "        text-align: right;\n",
       "    }\n",
       "</style>\n",
       "<table border=\"1\" class=\"dataframe\">\n",
       "  <thead>\n",
       "    <tr style=\"text-align: right;\">\n",
       "      <th></th>\n",
       "      <th>bigram</th>\n",
       "      <th>bigramcount</th>\n",
       "    </tr>\n",
       "  </thead>\n",
       "  <tbody>\n",
       "    <tr>\n",
       "      <th>0</th>\n",
       "      <td>what's best way</td>\n",
       "      <td>832</td>\n",
       "    </tr>\n",
       "    <tr>\n",
       "      <th>1</th>\n",
       "      <td>useful tips starting</td>\n",
       "      <td>714</td>\n",
       "    </tr>\n",
       "  </tbody>\n",
       "</table>\n",
       "</div>"
      ],
      "text/plain": [
       "                 bigram  bigramcount\n",
       "0       what's best way          832\n",
       "1  useful tips starting          714"
      ]
     },
     "execution_count": 78,
     "metadata": {
      "tags": []
     },
     "output_type": "execute_result"
    }
   ],
   "source": [
    "df_trigram_sincere.head(2)"
   ]
  },
  {
   "cell_type": "code",
   "execution_count": 0,
   "metadata": {
    "colab": {
     "base_uri": "https://localhost:8080/",
     "height": 627
    },
    "colab_type": "code",
    "id": "ppsvF81EW6uY",
    "outputId": "5f805585-df85-4e01-acb0-454acc5a4f1f"
   },
   "outputs": [
    {
     "data": {
      "image/png": "[encoded data removed]",
      "text/plain": [
       "<Figure size 1800x720 with 2 Axes>"
      ]
     },
     "metadata": {
      "tags": []
     },
     "output_type": "display_data"
    }
   ],
   "source": [
    "# top 15 most popular trigram of sincere and insincere question\n",
    "df0 = df_trigram_sincere.head(15).iloc[::-1, :]\n",
    "df0 = df0.reset_index()\n",
    "df0 = df0.drop(columns= ['index'], axis= 1)\n",
    "df1 = df_trigram_insincere.head(15).iloc[::-1, :]\n",
    "df1 = df1.reset_index()\n",
    "df1 = df1.drop(columns= [\"index\"], axis = 1)\n",
    "\n",
    "plt.figure(figsize= (25,10))\n",
    "plt.subplot(1, 2, 1)\n",
    "plt.barh(np.array(df0.index), np.array(df0.bigramcount), align= \"center\", alpha= 0.4)\n",
    "plt.title('sincere')\n",
    "plt.yticks(df0.index, df0.bigram, fontsize= 10)\n",
    "plt.legend(df0.index, df0.bigram, loc= \"best\", prop= {'size': 10})\n",
    "plt.xlabel('frequency')\n",
    "plt.ylabel('trigram')\n",
    "\n",
    "plt.subplot(1, 2, 2)\n",
    "plt.barh(df1.index, df1.bigramcount, align= \"center\", alpha = 0.4)\n",
    "plt.legend(df1.index, df1.bigram, loc= \"best\", prop= {'size': 10})\n",
    "plt.title('insincere')\n",
    "plt.yticks(df1.index, df1.bigram, fontsize= 10)\n",
    "plt.xlabel('frequency')\n",
    "plt.ylabel('trigram')\n",
    "\n",
    "plt.show()"
   ]
  },
  {
   "cell_type": "code",
   "execution_count": 0,
   "metadata": {
    "colab": {},
    "colab_type": "code",
    "collapsed": true,
    "id": "mWA8-YQMZGs6"
   },
   "outputs": [],
   "source": [
    "# del df_word_insincere\n",
    "# del df_word_sincere\n",
    "# del df_bigram_insincere\n",
    "# del df_bigram_sincere\n",
    "# del df_trigram_insincere\n",
    "# del df_trigram_sincere"
   ]
  },
  {
   "cell_type": "code",
   "execution_count": 0,
   "metadata": {
    "colab": {},
    "colab_type": "code",
    "collapsed": true,
    "id": "mhZuz-3sg1yw"
   },
   "outputs": [],
   "source": [
    "x_train = pd.ExcelFile('/content/drive/My Drive/Colab Notebooks/project_final/quora-insincere-questions-classification/quora_train.xlsx')\n",
    "quora_train = x_train.parse('Sheet1')\n",
    "x_test = pd.ExcelFile('/content/drive/My Drive/Colab Notebooks/project_final/quora-insincere-questions-classification/quora_test.xlsx')\n",
    "quora_test = x_test.parse('Sheet1')"
   ]
  },
  {
   "cell_type": "code",
   "execution_count": 0,
   "metadata": {
    "colab": {
     "base_uri": "https://localhost:8080/",
     "height": 111
    },
    "colab_type": "code",
    "id": "2vbr-6MZhDbM",
    "outputId": "c067f45b-f4bd-4c32-a0a8-07bab4da5468"
   },
   "outputs": [
    {
     "data": {
      "text/html": [
       "<div>\n",
       "<style scoped>\n",
       "    .dataframe tbody tr th:only-of-type {\n",
       "        vertical-align: middle;\n",
       "    }\n",
       "\n",
       "    .dataframe tbody tr th {\n",
       "        vertical-align: top;\n",
       "    }\n",
       "\n",
       "    .dataframe thead th {\n",
       "        text-align: right;\n",
       "    }\n",
       "</style>\n",
       "<table border=\"1\" class=\"dataframe\">\n",
       "  <thead>\n",
       "    <tr style=\"text-align: right;\">\n",
       "      <th></th>\n",
       "      <th>Unnamed: 0</th>\n",
       "      <th>qid</th>\n",
       "      <th>question_text</th>\n",
       "      <th>target</th>\n",
       "      <th>question_norm</th>\n",
       "    </tr>\n",
       "  </thead>\n",
       "  <tbody>\n",
       "    <tr>\n",
       "      <th>0</th>\n",
       "      <td>0</td>\n",
       "      <td>00002165364db923c7e6</td>\n",
       "      <td>How did Quebec nationalists see their province...</td>\n",
       "      <td>0</td>\n",
       "      <td>quebec nationalist province nation 1960s</td>\n",
       "    </tr>\n",
       "    <tr>\n",
       "      <th>1</th>\n",
       "      <td>1</td>\n",
       "      <td>000032939017120e6e44</td>\n",
       "      <td>Do you have an adopted dog, how would you enco...</td>\n",
       "      <td>0</td>\n",
       "      <td>adopt dog encourage people adopt shop</td>\n",
       "    </tr>\n",
       "  </tbody>\n",
       "</table>\n",
       "</div>"
      ],
      "text/plain": [
       "   Unnamed: 0                   qid  \\\n",
       "0           0  00002165364db923c7e6   \n",
       "1           1  000032939017120e6e44   \n",
       "\n",
       "                                       question_text  target  \\\n",
       "0  How did Quebec nationalists see their province...       0   \n",
       "1  Do you have an adopted dog, how would you enco...       0   \n",
       "\n",
       "                              question_norm  \n",
       "0  quebec nationalist province nation 1960s  \n",
       "1     adopt dog encourage people adopt shop  "
      ]
     },
     "execution_count": 83,
     "metadata": {
      "tags": []
     },
     "output_type": "execute_result"
    }
   ],
   "source": [
    "quora_train.head(2)"
   ]
  },
  {
   "cell_type": "code",
   "execution_count": 0,
   "metadata": {
    "colab": {
     "base_uri": "https://localhost:8080/",
     "height": 111
    },
    "colab_type": "code",
    "id": "Y947JxwgjFqt",
    "outputId": "3d5cd113-0dfd-4da1-895d-aef9f86c82dd"
   },
   "outputs": [
    {
     "data": {
      "text/html": [
       "<div>\n",
       "<style scoped>\n",
       "    .dataframe tbody tr th:only-of-type {\n",
       "        vertical-align: middle;\n",
       "    }\n",
       "\n",
       "    .dataframe tbody tr th {\n",
       "        vertical-align: top;\n",
       "    }\n",
       "\n",
       "    .dataframe thead th {\n",
       "        text-align: right;\n",
       "    }\n",
       "</style>\n",
       "<table border=\"1\" class=\"dataframe\">\n",
       "  <thead>\n",
       "    <tr style=\"text-align: right;\">\n",
       "      <th></th>\n",
       "      <th>Unnamed: 0</th>\n",
       "      <th>qid</th>\n",
       "      <th>question_text</th>\n",
       "      <th>question_norm</th>\n",
       "    </tr>\n",
       "  </thead>\n",
       "  <tbody>\n",
       "    <tr>\n",
       "      <th>0</th>\n",
       "      <td>0</td>\n",
       "      <td>0000163e3ea7c7a74cd7</td>\n",
       "      <td>Why do so many women become so rude and arroga...</td>\n",
       "      <td>woman rude arrogant little bite wealth power</td>\n",
       "    </tr>\n",
       "    <tr>\n",
       "      <th>1</th>\n",
       "      <td>1</td>\n",
       "      <td>00002bd4fb5d505b9161</td>\n",
       "      <td>When should I apply for RV college of engineer...</td>\n",
       "      <td>apply rv college engineer bms college engineer...</td>\n",
       "    </tr>\n",
       "  </tbody>\n",
       "</table>\n",
       "</div>"
      ],
      "text/plain": [
       "   Unnamed: 0                   qid  \\\n",
       "0           0  0000163e3ea7c7a74cd7   \n",
       "1           1  00002bd4fb5d505b9161   \n",
       "\n",
       "                                       question_text  \\\n",
       "0  Why do so many women become so rude and arroga...   \n",
       "1  When should I apply for RV college of engineer...   \n",
       "\n",
       "                                       question_norm  \n",
       "0       woman rude arrogant little bite wealth power  \n",
       "1  apply rv college engineer bms college engineer...  "
      ]
     },
     "execution_count": 110,
     "metadata": {
      "tags": []
     },
     "output_type": "execute_result"
    }
   ],
   "source": [
    "quora_test.head(2)"
   ]
  },
  {
   "cell_type": "code",
   "execution_count": 0,
   "metadata": {
    "colab": {},
    "colab_type": "code",
    "collapsed": true,
    "id": "MLHVJd4ohDYR"
   },
   "outputs": [],
   "source": [
    "## Number of words in the text ##\n",
    "quora_train[\"num_words\"] = quora_train[\"question_text\"].apply(lambda x: len(str(x).split()))\n",
    "quora_test[\"num_words\"] = quora_test[\"question_text\"].apply(lambda x: len(str(x).split()))\n",
    "\n",
    "## Number of unique words in the text ##\n",
    "quora_train[\"num_unique_words\"] = quora_train[\"question_text\"].apply(lambda x: len(set(str(x).split())))\n",
    "quora_test[\"num_unique_words\"] = quora_test[\"question_text\"].apply(lambda x: len(set(str(x).split())))\n",
    "\n",
    "## Number of characters in the text ##\n",
    "quora_train[\"num_chars\"] = quora_train[\"question_text\"].apply(lambda x: len(str(x)))\n",
    "quora_test[\"num_chars\"] = quora_test[\"question_text\"].apply(lambda x: len(str(x)))\n",
    "\n",
    "## Number of stopwords in the text ##\n",
    "quora_train[\"num_stopwords\"] = quora_train[\"question_text\"].apply(lambda x: len([w for w in str(x).lower().split() if w in stopwords]))\n",
    "quora_test[\"num_stopwords\"] = quora_test[\"question_text\"].apply(lambda x: len([w for w in str(x).lower().split() if w in stopwords]))\n",
    "\n",
    "## Number of punctuations in the text ##\n",
    "quora_train[\"num_punctuations\"] = quora_train['question_text'].apply(lambda x: len([c for c in str(x) if c in string.punctuation]) )\n",
    "quora_test[\"num_punctuations\"] = quora_test['question_text'].apply(lambda x: len([c for c in str(x) if c in string.punctuation]) )\n",
    "\n",
    "## Number of title case words in the text ##\n",
    "quora_train[\"num_words_upper\"] = quora_train[\"question_text\"].apply(lambda x: len([w for w in str(x).split() if w.isupper()]))\n",
    "quora_test[\"num_words_upper\"] = quora_test[\"question_text\"].apply(lambda x: len([w for w in str(x).split() if w.isupper()]))\n",
    "\n",
    "## Number of title case words in the text ##\n",
    "quora_train[\"num_words_title\"] = quora_train[\"question_text\"].apply(lambda x: len([w for w in str(x).split() if w.istitle()]))\n",
    "quora_test[\"num_words_title\"] = quora_test[\"question_text\"].apply(lambda x: len([w for w in str(x).split() if w.istitle()]))\n",
    "\n",
    "## Average length of the words in the text ##\n",
    "quora_train[\"mean_word_len\"] = quora_train[\"question_text\"].apply(lambda x: np.mean([len(w) for w in str(x).split()]))\n",
    "quora_test[\"mean_word_len\"] = quora_test[\"question_text\"].apply(lambda x: np.mean([len(w) for w in str(x).split()]))"
   ]
  },
  {
   "cell_type": "code",
   "execution_count": 0,
   "metadata": {
    "colab": {
     "base_uri": "https://localhost:8080/",
     "height": 250
    },
    "colab_type": "code",
    "id": "c9-cpENlhDMk",
    "outputId": "dd9887bc-dd08-4818-ef6e-f2aa4dfa214e"
   },
   "outputs": [
    {
     "data": {
      "text/html": [
       "<div>\n",
       "<style scoped>\n",
       "    .dataframe tbody tr th:only-of-type {\n",
       "        vertical-align: middle;\n",
       "    }\n",
       "\n",
       "    .dataframe tbody tr th {\n",
       "        vertical-align: top;\n",
       "    }\n",
       "\n",
       "    .dataframe thead th {\n",
       "        text-align: right;\n",
       "    }\n",
       "</style>\n",
       "<table border=\"1\" class=\"dataframe\">\n",
       "  <thead>\n",
       "    <tr style=\"text-align: right;\">\n",
       "      <th></th>\n",
       "      <th>Unnamed: 0</th>\n",
       "      <th>qid</th>\n",
       "      <th>question_text</th>\n",
       "      <th>target</th>\n",
       "      <th>question_norm</th>\n",
       "      <th>num_words</th>\n",
       "      <th>num_unique_words</th>\n",
       "      <th>num_chars</th>\n",
       "      <th>num_stopwords</th>\n",
       "      <th>num_punctuations</th>\n",
       "      <th>num_words_upper</th>\n",
       "      <th>num_words_title</th>\n",
       "      <th>mean_word_len</th>\n",
       "    </tr>\n",
       "  </thead>\n",
       "  <tbody>\n",
       "    <tr>\n",
       "      <th>0</th>\n",
       "      <td>0</td>\n",
       "      <td>00002165364db923c7e6</td>\n",
       "      <td>How did Quebec nationalists see their province...</td>\n",
       "      <td>0</td>\n",
       "      <td>quebec nationalist province nation 1960s</td>\n",
       "      <td>13</td>\n",
       "      <td>13</td>\n",
       "      <td>72</td>\n",
       "      <td>8</td>\n",
       "      <td>1</td>\n",
       "      <td>0</td>\n",
       "      <td>2</td>\n",
       "      <td>4.615385</td>\n",
       "    </tr>\n",
       "    <tr>\n",
       "      <th>1</th>\n",
       "      <td>1</td>\n",
       "      <td>000032939017120e6e44</td>\n",
       "      <td>Do you have an adopted dog, how would you enco...</td>\n",
       "      <td>0</td>\n",
       "      <td>adopt dog encourage people adopt shop</td>\n",
       "      <td>16</td>\n",
       "      <td>15</td>\n",
       "      <td>81</td>\n",
       "      <td>10</td>\n",
       "      <td>2</td>\n",
       "      <td>0</td>\n",
       "      <td>1</td>\n",
       "      <td>4.125000</td>\n",
       "    </tr>\n",
       "  </tbody>\n",
       "</table>\n",
       "</div>"
      ],
      "text/plain": [
       "   Unnamed: 0                   qid  \\\n",
       "0           0  00002165364db923c7e6   \n",
       "1           1  000032939017120e6e44   \n",
       "\n",
       "                                       question_text  target  \\\n",
       "0  How did Quebec nationalists see their province...       0   \n",
       "1  Do you have an adopted dog, how would you enco...       0   \n",
       "\n",
       "                              question_norm  num_words  num_unique_words  \\\n",
       "0  quebec nationalist province nation 1960s         13                13   \n",
       "1     adopt dog encourage people adopt shop         16                15   \n",
       "\n",
       "   num_chars  num_stopwords  num_punctuations  num_words_upper  \\\n",
       "0         72              8                 1                0   \n",
       "1         81             10                 2                0   \n",
       "\n",
       "   num_words_title  mean_word_len  \n",
       "0                2       4.615385  \n",
       "1                1       4.125000  "
      ]
     },
     "execution_count": 112,
     "metadata": {
      "tags": []
     },
     "output_type": "execute_result"
    }
   ],
   "source": [
    "quora_train.head(2)"
   ]
  },
  {
   "cell_type": "code",
   "execution_count": 0,
   "metadata": {
    "colab": {
     "base_uri": "https://localhost:8080/",
     "height": 102
    },
    "colab_type": "code",
    "id": "Ye-Gf61RhDJs",
    "outputId": "99ce181a-743d-47b0-dd02-1ce2636a41f8"
   },
   "outputs": [
    {
     "data": {
      "text/plain": [
       "Index(['Unnamed: 0', 'qid', 'question_text', 'target', 'question_norm',\n",
       "       'num_words', 'num_unique_words', 'num_chars', 'num_stopwords',\n",
       "       'num_punctuations', 'num_words_upper', 'num_words_title',\n",
       "       'mean_word_len'],\n",
       "      dtype='object')"
      ]
     },
     "execution_count": 114,
     "metadata": {
      "tags": []
     },
     "output_type": "execute_result"
    }
   ],
   "source": [
    "quora_train.columns"
   ]
  },
  {
   "cell_type": "code",
   "execution_count": 0,
   "metadata": {
    "colab": {
     "base_uri": "https://localhost:8080/",
     "height": 317
    },
    "colab_type": "code",
    "id": "QvitwM1kj4-M",
    "outputId": "991f951d-b146-4947-e223-a9f447899268"
   },
   "outputs": [
    {
     "data": {
      "text/html": [
       "<div>\n",
       "<style scoped>\n",
       "    .dataframe tbody tr th:only-of-type {\n",
       "        vertical-align: middle;\n",
       "    }\n",
       "\n",
       "    .dataframe tbody tr th {\n",
       "        vertical-align: top;\n",
       "    }\n",
       "\n",
       "    .dataframe thead th {\n",
       "        text-align: right;\n",
       "    }\n",
       "</style>\n",
       "<table border=\"1\" class=\"dataframe\">\n",
       "  <thead>\n",
       "    <tr style=\"text-align: right;\">\n",
       "      <th></th>\n",
       "      <th>num_words</th>\n",
       "      <th>num_unique_words</th>\n",
       "      <th>num_chars</th>\n",
       "      <th>num_stopwords</th>\n",
       "      <th>num_punctuations</th>\n",
       "      <th>num_words_upper</th>\n",
       "      <th>num_words_title</th>\n",
       "      <th>mean_word_len</th>\n",
       "    </tr>\n",
       "  </thead>\n",
       "  <tbody>\n",
       "    <tr>\n",
       "      <th>count</th>\n",
       "      <td>1.048575e+06</td>\n",
       "      <td>1.048575e+06</td>\n",
       "      <td>1.048575e+06</td>\n",
       "      <td>1.048575e+06</td>\n",
       "      <td>1.048575e+06</td>\n",
       "      <td>1.048575e+06</td>\n",
       "      <td>1.048575e+06</td>\n",
       "      <td>1.048575e+06</td>\n",
       "    </tr>\n",
       "    <tr>\n",
       "      <th>mean</th>\n",
       "      <td>1.280214e+01</td>\n",
       "      <td>1.213435e+01</td>\n",
       "      <td>7.067135e+01</td>\n",
       "      <td>6.663821e+00</td>\n",
       "      <td>1.746231e+00</td>\n",
       "      <td>4.503693e-01</td>\n",
       "      <td>2.120054e+00</td>\n",
       "      <td>4.671121e+00</td>\n",
       "    </tr>\n",
       "    <tr>\n",
       "      <th>std</th>\n",
       "      <td>7.048434e+00</td>\n",
       "      <td>6.036137e+00</td>\n",
       "      <td>3.876389e+01</td>\n",
       "      <td>4.111713e+00</td>\n",
       "      <td>1.694237e+00</td>\n",
       "      <td>8.494591e-01</td>\n",
       "      <td>1.493017e+00</td>\n",
       "      <td>8.190567e-01</td>\n",
       "    </tr>\n",
       "    <tr>\n",
       "      <th>min</th>\n",
       "      <td>1.000000e+00</td>\n",
       "      <td>1.000000e+00</td>\n",
       "      <td>1.000000e+00</td>\n",
       "      <td>0.000000e+00</td>\n",
       "      <td>0.000000e+00</td>\n",
       "      <td>0.000000e+00</td>\n",
       "      <td>0.000000e+00</td>\n",
       "      <td>1.000000e+00</td>\n",
       "    </tr>\n",
       "    <tr>\n",
       "      <th>25%</th>\n",
       "      <td>8.000000e+00</td>\n",
       "      <td>8.000000e+00</td>\n",
       "      <td>4.500000e+01</td>\n",
       "      <td>4.000000e+00</td>\n",
       "      <td>1.000000e+00</td>\n",
       "      <td>0.000000e+00</td>\n",
       "      <td>1.000000e+00</td>\n",
       "      <td>4.111111e+00</td>\n",
       "    </tr>\n",
       "    <tr>\n",
       "      <th>50%</th>\n",
       "      <td>1.100000e+01</td>\n",
       "      <td>1.100000e+01</td>\n",
       "      <td>6.000000e+01</td>\n",
       "      <td>6.000000e+00</td>\n",
       "      <td>1.000000e+00</td>\n",
       "      <td>0.000000e+00</td>\n",
       "      <td>2.000000e+00</td>\n",
       "      <td>4.600000e+00</td>\n",
       "    </tr>\n",
       "    <tr>\n",
       "      <th>75%</th>\n",
       "      <td>1.500000e+01</td>\n",
       "      <td>1.500000e+01</td>\n",
       "      <td>8.500000e+01</td>\n",
       "      <td>8.000000e+00</td>\n",
       "      <td>2.000000e+00</td>\n",
       "      <td>1.000000e+00</td>\n",
       "      <td>3.000000e+00</td>\n",
       "      <td>5.142857e+00</td>\n",
       "    </tr>\n",
       "    <tr>\n",
       "      <th>max</th>\n",
       "      <td>1.340000e+02</td>\n",
       "      <td>9.600000e+01</td>\n",
       "      <td>1.017000e+03</td>\n",
       "      <td>6.000000e+01</td>\n",
       "      <td>4.110000e+02</td>\n",
       "      <td>3.700000e+01</td>\n",
       "      <td>3.000000e+01</td>\n",
       "      <td>5.766667e+01</td>\n",
       "    </tr>\n",
       "  </tbody>\n",
       "</table>\n",
       "</div>"
      ],
      "text/plain": [
       "          num_words  num_unique_words     num_chars  num_stopwords  \\\n",
       "count  1.048575e+06      1.048575e+06  1.048575e+06   1.048575e+06   \n",
       "mean   1.280214e+01      1.213435e+01  7.067135e+01   6.663821e+00   \n",
       "std    7.048434e+00      6.036137e+00  3.876389e+01   4.111713e+00   \n",
       "min    1.000000e+00      1.000000e+00  1.000000e+00   0.000000e+00   \n",
       "25%    8.000000e+00      8.000000e+00  4.500000e+01   4.000000e+00   \n",
       "50%    1.100000e+01      1.100000e+01  6.000000e+01   6.000000e+00   \n",
       "75%    1.500000e+01      1.500000e+01  8.500000e+01   8.000000e+00   \n",
       "max    1.340000e+02      9.600000e+01  1.017000e+03   6.000000e+01   \n",
       "\n",
       "       num_punctuations  num_words_upper  num_words_title  mean_word_len  \n",
       "count      1.048575e+06     1.048575e+06     1.048575e+06   1.048575e+06  \n",
       "mean       1.746231e+00     4.503693e-01     2.120054e+00   4.671121e+00  \n",
       "std        1.694237e+00     8.494591e-01     1.493017e+00   8.190567e-01  \n",
       "min        0.000000e+00     0.000000e+00     0.000000e+00   1.000000e+00  \n",
       "25%        1.000000e+00     0.000000e+00     1.000000e+00   4.111111e+00  \n",
       "50%        1.000000e+00     0.000000e+00     2.000000e+00   4.600000e+00  \n",
       "75%        2.000000e+00     1.000000e+00     3.000000e+00   5.142857e+00  \n",
       "max        4.110000e+02     3.700000e+01     3.000000e+01   5.766667e+01  "
      ]
     },
     "execution_count": 122,
     "metadata": {
      "tags": []
     },
     "output_type": "execute_result"
    }
   ],
   "source": [
    "quora_train[['num_words', 'num_unique_words', 'num_chars', 'num_stopwords', 'num_punctuations', 'num_words_upper', 'num_words_title', 'mean_word_len']].describe()"
   ]
  },
  {
   "cell_type": "code",
   "execution_count": 0,
   "metadata": {
    "colab": {
     "base_uri": "https://localhost:8080/",
     "height": 208
    },
    "colab_type": "code",
    "id": "GEu8Yo5Tj45w",
    "outputId": "dfb08325-faa0-4d86-9894-845b7f03eae4"
   },
   "outputs": [
    {
     "data": {
      "text/html": [
       "<style  type=\"text/css\" >\n",
       "</style><table id=\"T_bd9eea6e_9a51_11e9_91d1_0242ac1c0002\" ><thead>    <tr>        <th class=\"blank level0\" ></th>        <th class=\"col_heading level0 col0\" >num_words</th>        <th class=\"col_heading level0 col1\" >num_unique_words</th>        <th class=\"col_heading level0 col2\" >num_chars</th>        <th class=\"col_heading level0 col3\" >num_stopwords</th>        <th class=\"col_heading level0 col4\" >num_punctuations</th>        <th class=\"col_heading level0 col5\" >num_words_upper</th>        <th class=\"col_heading level0 col6\" >num_words_title</th>        <th class=\"col_heading level0 col7\" >mean_word_len</th>    </tr></thead><tbody>\n",
       "                <tr>\n",
       "                        <th id=\"T_bd9eea6e_9a51_11e9_91d1_0242ac1c0002level0_row0\" class=\"row_heading level0 row0\" >count</th>\n",
       "                        <td id=\"T_bd9eea6e_9a51_11e9_91d1_0242ac1c0002row0_col0\" class=\"data row0 col0\" >1048575.00</td>\n",
       "                        <td id=\"T_bd9eea6e_9a51_11e9_91d1_0242ac1c0002row0_col1\" class=\"data row0 col1\" >1048575.00</td>\n",
       "                        <td id=\"T_bd9eea6e_9a51_11e9_91d1_0242ac1c0002row0_col2\" class=\"data row0 col2\" >1048575.00</td>\n",
       "                        <td id=\"T_bd9eea6e_9a51_11e9_91d1_0242ac1c0002row0_col3\" class=\"data row0 col3\" >1048575.00</td>\n",
       "                        <td id=\"T_bd9eea6e_9a51_11e9_91d1_0242ac1c0002row0_col4\" class=\"data row0 col4\" >1048575.00</td>\n",
       "                        <td id=\"T_bd9eea6e_9a51_11e9_91d1_0242ac1c0002row0_col5\" class=\"data row0 col5\" >1048575.00</td>\n",
       "                        <td id=\"T_bd9eea6e_9a51_11e9_91d1_0242ac1c0002row0_col6\" class=\"data row0 col6\" >1048575.00</td>\n",
       "                        <td id=\"T_bd9eea6e_9a51_11e9_91d1_0242ac1c0002row0_col7\" class=\"data row0 col7\" >1048575.00</td>\n",
       "            </tr>\n",
       "            <tr>\n",
       "                        <th id=\"T_bd9eea6e_9a51_11e9_91d1_0242ac1c0002level0_row1\" class=\"row_heading level0 row1\" >mean</th>\n",
       "                        <td id=\"T_bd9eea6e_9a51_11e9_91d1_0242ac1c0002row1_col0\" class=\"data row1 col0\" >12.80</td>\n",
       "                        <td id=\"T_bd9eea6e_9a51_11e9_91d1_0242ac1c0002row1_col1\" class=\"data row1 col1\" >12.13</td>\n",
       "                        <td id=\"T_bd9eea6e_9a51_11e9_91d1_0242ac1c0002row1_col2\" class=\"data row1 col2\" >70.67</td>\n",
       "                        <td id=\"T_bd9eea6e_9a51_11e9_91d1_0242ac1c0002row1_col3\" class=\"data row1 col3\" >6.66</td>\n",
       "                        <td id=\"T_bd9eea6e_9a51_11e9_91d1_0242ac1c0002row1_col4\" class=\"data row1 col4\" >1.75</td>\n",
       "                        <td id=\"T_bd9eea6e_9a51_11e9_91d1_0242ac1c0002row1_col5\" class=\"data row1 col5\" >0.45</td>\n",
       "                        <td id=\"T_bd9eea6e_9a51_11e9_91d1_0242ac1c0002row1_col6\" class=\"data row1 col6\" >2.12</td>\n",
       "                        <td id=\"T_bd9eea6e_9a51_11e9_91d1_0242ac1c0002row1_col7\" class=\"data row1 col7\" >4.67</td>\n",
       "            </tr>\n",
       "            <tr>\n",
       "                        <th id=\"T_bd9eea6e_9a51_11e9_91d1_0242ac1c0002level0_row2\" class=\"row_heading level0 row2\" >std</th>\n",
       "                        <td id=\"T_bd9eea6e_9a51_11e9_91d1_0242ac1c0002row2_col0\" class=\"data row2 col0\" >7.05</td>\n",
       "                        <td id=\"T_bd9eea6e_9a51_11e9_91d1_0242ac1c0002row2_col1\" class=\"data row2 col1\" >6.04</td>\n",
       "                        <td id=\"T_bd9eea6e_9a51_11e9_91d1_0242ac1c0002row2_col2\" class=\"data row2 col2\" >38.76</td>\n",
       "                        <td id=\"T_bd9eea6e_9a51_11e9_91d1_0242ac1c0002row2_col3\" class=\"data row2 col3\" >4.11</td>\n",
       "                        <td id=\"T_bd9eea6e_9a51_11e9_91d1_0242ac1c0002row2_col4\" class=\"data row2 col4\" >1.69</td>\n",
       "                        <td id=\"T_bd9eea6e_9a51_11e9_91d1_0242ac1c0002row2_col5\" class=\"data row2 col5\" >0.85</td>\n",
       "                        <td id=\"T_bd9eea6e_9a51_11e9_91d1_0242ac1c0002row2_col6\" class=\"data row2 col6\" >1.49</td>\n",
       "                        <td id=\"T_bd9eea6e_9a51_11e9_91d1_0242ac1c0002row2_col7\" class=\"data row2 col7\" >0.82</td>\n",
       "            </tr>\n",
       "            <tr>\n",
       "                        <th id=\"T_bd9eea6e_9a51_11e9_91d1_0242ac1c0002level0_row3\" class=\"row_heading level0 row3\" >min</th>\n",
       "                        <td id=\"T_bd9eea6e_9a51_11e9_91d1_0242ac1c0002row3_col0\" class=\"data row3 col0\" >1.00</td>\n",
       "                        <td id=\"T_bd9eea6e_9a51_11e9_91d1_0242ac1c0002row3_col1\" class=\"data row3 col1\" >1.00</td>\n",
       "                        <td id=\"T_bd9eea6e_9a51_11e9_91d1_0242ac1c0002row3_col2\" class=\"data row3 col2\" >1.00</td>\n",
       "                        <td id=\"T_bd9eea6e_9a51_11e9_91d1_0242ac1c0002row3_col3\" class=\"data row3 col3\" >0.00</td>\n",
       "                        <td id=\"T_bd9eea6e_9a51_11e9_91d1_0242ac1c0002row3_col4\" class=\"data row3 col4\" >0.00</td>\n",
       "                        <td id=\"T_bd9eea6e_9a51_11e9_91d1_0242ac1c0002row3_col5\" class=\"data row3 col5\" >0.00</td>\n",
       "                        <td id=\"T_bd9eea6e_9a51_11e9_91d1_0242ac1c0002row3_col6\" class=\"data row3 col6\" >0.00</td>\n",
       "                        <td id=\"T_bd9eea6e_9a51_11e9_91d1_0242ac1c0002row3_col7\" class=\"data row3 col7\" >1.00</td>\n",
       "            </tr>\n",
       "            <tr>\n",
       "                        <th id=\"T_bd9eea6e_9a51_11e9_91d1_0242ac1c0002level0_row4\" class=\"row_heading level0 row4\" >25%</th>\n",
       "                        <td id=\"T_bd9eea6e_9a51_11e9_91d1_0242ac1c0002row4_col0\" class=\"data row4 col0\" >8.00</td>\n",
       "                        <td id=\"T_bd9eea6e_9a51_11e9_91d1_0242ac1c0002row4_col1\" class=\"data row4 col1\" >8.00</td>\n",
       "                        <td id=\"T_bd9eea6e_9a51_11e9_91d1_0242ac1c0002row4_col2\" class=\"data row4 col2\" >45.00</td>\n",
       "                        <td id=\"T_bd9eea6e_9a51_11e9_91d1_0242ac1c0002row4_col3\" class=\"data row4 col3\" >4.00</td>\n",
       "                        <td id=\"T_bd9eea6e_9a51_11e9_91d1_0242ac1c0002row4_col4\" class=\"data row4 col4\" >1.00</td>\n",
       "                        <td id=\"T_bd9eea6e_9a51_11e9_91d1_0242ac1c0002row4_col5\" class=\"data row4 col5\" >0.00</td>\n",
       "                        <td id=\"T_bd9eea6e_9a51_11e9_91d1_0242ac1c0002row4_col6\" class=\"data row4 col6\" >1.00</td>\n",
       "                        <td id=\"T_bd9eea6e_9a51_11e9_91d1_0242ac1c0002row4_col7\" class=\"data row4 col7\" >4.11</td>\n",
       "            </tr>\n",
       "            <tr>\n",
       "                        <th id=\"T_bd9eea6e_9a51_11e9_91d1_0242ac1c0002level0_row5\" class=\"row_heading level0 row5\" >50%</th>\n",
       "                        <td id=\"T_bd9eea6e_9a51_11e9_91d1_0242ac1c0002row5_col0\" class=\"data row5 col0\" >11.00</td>\n",
       "                        <td id=\"T_bd9eea6e_9a51_11e9_91d1_0242ac1c0002row5_col1\" class=\"data row5 col1\" >11.00</td>\n",
       "                        <td id=\"T_bd9eea6e_9a51_11e9_91d1_0242ac1c0002row5_col2\" class=\"data row5 col2\" >60.00</td>\n",
       "                        <td id=\"T_bd9eea6e_9a51_11e9_91d1_0242ac1c0002row5_col3\" class=\"data row5 col3\" >6.00</td>\n",
       "                        <td id=\"T_bd9eea6e_9a51_11e9_91d1_0242ac1c0002row5_col4\" class=\"data row5 col4\" >1.00</td>\n",
       "                        <td id=\"T_bd9eea6e_9a51_11e9_91d1_0242ac1c0002row5_col5\" class=\"data row5 col5\" >0.00</td>\n",
       "                        <td id=\"T_bd9eea6e_9a51_11e9_91d1_0242ac1c0002row5_col6\" class=\"data row5 col6\" >2.00</td>\n",
       "                        <td id=\"T_bd9eea6e_9a51_11e9_91d1_0242ac1c0002row5_col7\" class=\"data row5 col7\" >4.60</td>\n",
       "            </tr>\n",
       "            <tr>\n",
       "                        <th id=\"T_bd9eea6e_9a51_11e9_91d1_0242ac1c0002level0_row6\" class=\"row_heading level0 row6\" >75%</th>\n",
       "                        <td id=\"T_bd9eea6e_9a51_11e9_91d1_0242ac1c0002row6_col0\" class=\"data row6 col0\" >15.00</td>\n",
       "                        <td id=\"T_bd9eea6e_9a51_11e9_91d1_0242ac1c0002row6_col1\" class=\"data row6 col1\" >15.00</td>\n",
       "                        <td id=\"T_bd9eea6e_9a51_11e9_91d1_0242ac1c0002row6_col2\" class=\"data row6 col2\" >85.00</td>\n",
       "                        <td id=\"T_bd9eea6e_9a51_11e9_91d1_0242ac1c0002row6_col3\" class=\"data row6 col3\" >8.00</td>\n",
       "                        <td id=\"T_bd9eea6e_9a51_11e9_91d1_0242ac1c0002row6_col4\" class=\"data row6 col4\" >2.00</td>\n",
       "                        <td id=\"T_bd9eea6e_9a51_11e9_91d1_0242ac1c0002row6_col5\" class=\"data row6 col5\" >1.00</td>\n",
       "                        <td id=\"T_bd9eea6e_9a51_11e9_91d1_0242ac1c0002row6_col6\" class=\"data row6 col6\" >3.00</td>\n",
       "                        <td id=\"T_bd9eea6e_9a51_11e9_91d1_0242ac1c0002row6_col7\" class=\"data row6 col7\" >5.14</td>\n",
       "            </tr>\n",
       "            <tr>\n",
       "                        <th id=\"T_bd9eea6e_9a51_11e9_91d1_0242ac1c0002level0_row7\" class=\"row_heading level0 row7\" >max</th>\n",
       "                        <td id=\"T_bd9eea6e_9a51_11e9_91d1_0242ac1c0002row7_col0\" class=\"data row7 col0\" >134.00</td>\n",
       "                        <td id=\"T_bd9eea6e_9a51_11e9_91d1_0242ac1c0002row7_col1\" class=\"data row7 col1\" >96.00</td>\n",
       "                        <td id=\"T_bd9eea6e_9a51_11e9_91d1_0242ac1c0002row7_col2\" class=\"data row7 col2\" >1017.00</td>\n",
       "                        <td id=\"T_bd9eea6e_9a51_11e9_91d1_0242ac1c0002row7_col3\" class=\"data row7 col3\" >60.00</td>\n",
       "                        <td id=\"T_bd9eea6e_9a51_11e9_91d1_0242ac1c0002row7_col4\" class=\"data row7 col4\" >411.00</td>\n",
       "                        <td id=\"T_bd9eea6e_9a51_11e9_91d1_0242ac1c0002row7_col5\" class=\"data row7 col5\" >37.00</td>\n",
       "                        <td id=\"T_bd9eea6e_9a51_11e9_91d1_0242ac1c0002row7_col6\" class=\"data row7 col6\" >30.00</td>\n",
       "                        <td id=\"T_bd9eea6e_9a51_11e9_91d1_0242ac1c0002row7_col7\" class=\"data row7 col7\" >57.67</td>\n",
       "            </tr>\n",
       "    </tbody></table>"
      ],
      "text/plain": [
       "<pandas.io.formats.style.Styler at 0x7f296372ed30>"
      ]
     },
     "execution_count": 125,
     "metadata": {
      "tags": []
     },
     "output_type": "execute_result"
    }
   ],
   "source": [
    "quora_train[['num_words', 'num_unique_words', 'num_chars', 'num_stopwords', 'num_punctuations', 'num_words_upper', 'num_words_title', 'mean_word_len']].describe().style.format(\"{:.2f}\")"
   ]
  },
  {
   "cell_type": "code",
   "execution_count": 0,
   "metadata": {
    "colab": {},
    "colab_type": "code",
    "collapsed": true,
    "id": "smeMLElIhDGl"
   },
   "outputs": [],
   "source": [
    "# save file xlsx\n",
    "# writer = pd.ExcelWriter('/content/drive/My Drive/Colab Notebooks/project_final/quora-insincere-questions-classification/quora_train.xlsx', engine= 'xlsxwriter')\n",
    "# quora_train.to_excel(writer, 'Sheet1')\n",
    "# writer.save()\n",
    "\n",
    "# writer1 = pd.ExcelWriter('/content/drive/My Drive/Colab Notebooks/project_final/quora-insincere-questions-classification/quora_test.xlsx', engine= 'xlsxwriter')\n",
    "# quora_test.to_excel(writer1, 'Sheet1')\n",
    "# writer.save()"
   ]
  },
  {
   "cell_type": "markdown",
   "metadata": {
    "colab_type": "text",
    "id": "Uc9yC7A1r1nP"
   },
   "source": [
    "# prepare training, validation, and test set"
   ]
  },
  {
   "cell_type": "code",
   "execution_count": null,
   "metadata": {
    "collapsed": true
   },
   "outputs": [],
   "source": [
    "quora_test = quora_test.replace(np.nan, '')\n",
    "quora_train = quora_train.replace(np.nan, '')"
   ]
  },
  {
   "cell_type": "code",
   "execution_count": 0,
   "metadata": {
    "colab": {},
    "colab_type": "code",
    "collapsed": true,
    "id": "-IMgXv32U844"
   },
   "outputs": [],
   "source": [
    "# # save file xlsx\n",
    "# writer = pd.ExcelWriter('/content/drive/My Drive/Colab Notebooks/project_final/quora-insincere-questions-classification/quora_train.xlsx', engine= 'xlsxwriter')\n",
    "# quora_train.to_excel(writer, 'Sheet1')\n",
    "# writer.save()\n",
    "\n",
    "writer1 = pd.ExcelWriter('/content/drive/My Drive/Colab Notebooks/project_final/quora-insincere-questions-classification/quora_test.xlsx', engine= 'xlsxwriter')\n",
    "quora_test.to_excel(writer1, 'Sheet1')\n",
    "writer.save()"
   ]
  },
  {
   "cell_type": "code",
   "execution_count": 0,
   "metadata": {
    "colab": {},
    "colab_type": "code",
    "collapsed": true,
    "id": "reqyd3POmwz0"
   },
   "outputs": [],
   "source": [
    "# x_train = pd.ExcelFile('/content/drive/My Drive/Colab Notebooks/project_final/quora-insincere-questions-classification/quora_train.xlsx')\n",
    "# quora_train = x_train.parse('Sheet1')\n",
    "# x_test = pd.ExcelFile('/content/drive/My Drive/Colab Notebooks/project_final/quora-insincere-questions-classification/quora_test.xlsx')\n",
    "# quora_test = x_test.parse('Sheet1')"
   ]
  },
  {
   "cell_type": "code",
   "execution_count": 0,
   "metadata": {
    "colab": {},
    "colab_type": "code",
    "collapsed": true,
    "id": "giFCWg3gTimw"
   },
   "outputs": [],
   "source": []
  },
  {
   "cell_type": "code",
   "execution_count": 0,
   "metadata": {
    "colab": {
     "base_uri": "https://localhost:8080/",
     "height": 34
    },
    "colab_type": "code",
    "id": "yz4OnuxqwqNt",
    "outputId": "678b5e6b-8525-4cf2-e3eb-d59a9124fc3f"
   },
   "outputs": [
    {
     "data": {
      "text/plain": [
       "(1048575, 5)"
      ]
     },
     "execution_count": 121,
     "metadata": {
      "tags": []
     },
     "output_type": "execute_result"
    }
   ],
   "source": [
    "quora_train = quora_train.reset_index()\n",
    "quora_train = quora_train.drop('index', axis= 1)\n",
    "quora_train.shape"
   ]
  },
  {
   "cell_type": "code",
   "execution_count": 0,
   "metadata": {
    "colab": {},
    "colab_type": "code",
    "collapsed": true,
    "id": "Uqq3je0MJg2Y"
   },
   "outputs": [],
   "source": [
    "def clean_text(x):\n",
    "\n",
    "    x = str(x)\n",
    "    for punct in \"/-'\":\n",
    "        x = x.replace(punct, ' ')\n",
    "    for punct in '&':\n",
    "        x = x.replace(punct, f' {punct} ')\n",
    "    for punct in '?!.,\"#$%\\'()*+-/:;<=>@[\\\\]^`{|}~' + '“”’':\n",
    "        x = x.replace(punct, '')\n",
    "    return x"
   ]
  },
  {
   "cell_type": "code",
   "execution_count": 0,
   "metadata": {
    "colab": {},
    "colab_type": "code",
    "collapsed": true,
    "id": "zZKC2HILwqEN"
   },
   "outputs": [],
   "source": [
    "quora_train['text_norm'] = quora_train.question_norm.apply(clean_text)"
   ]
  },
  {
   "cell_type": "code",
   "execution_count": 0,
   "metadata": {
    "colab": {},
    "colab_type": "code",
    "collapsed": true,
    "id": "XhNbTFxT1cED"
   },
   "outputs": [],
   "source": [
    "quora_test['text_norm'] = quora_test.question_norm.apply(clean_text)"
   ]
  },
  {
   "cell_type": "code",
   "execution_count": 0,
   "metadata": {
    "colab": {
     "base_uri": "https://localhost:8080/",
     "height": 51
    },
    "colab_type": "code",
    "id": "uKjQuN1QtjEp",
    "outputId": "67a5d1e7-ea59-47df-ef45-2cf158f036f3"
   },
   "outputs": [
    {
     "name": "stdout",
     "output_type": "stream",
     "text": [
      "[1, 9, 77, 34, 22]\n",
      "{2, 3, 66, 5, 6, 7, 10, 12, 21, 55}\n"
     ]
    }
   ],
   "source": [
    "# the_list = [2, 3, 1,9, 5, 6, 7, 10, 12, 34, 55, 66, 77,22, 21]\n",
    "# import random\n",
    "# a = random.sample(the_list, 5)\n",
    "# print(a)\n",
    "# print(set(the_list) - set(a))"
   ]
  },
  {
   "cell_type": "code",
   "execution_count": 0,
   "metadata": {
    "colab": {},
    "colab_type": "code",
    "collapsed": true,
    "id": "sKmXf_ffvrRi"
   },
   "outputs": [],
   "source": [
    "def common_member(a, b): \n",
    "    a_set = set(a) \n",
    "    b_set = set(b) \n",
    "    if len(a_set.intersection(b_set)) > 0: \n",
    "        return(True)  \n",
    "    return(False) \n",
    "#print(common_member(a, list(set(the_list) - set(a))))"
   ]
  },
  {
   "cell_type": "code",
   "execution_count": 0,
   "metadata": {
    "colab": {},
    "colab_type": "code",
    "collapsed": true,
    "id": "fAjEaNtGvrHL"
   },
   "outputs": [],
   "source": []
  },
  {
   "cell_type": "code",
   "execution_count": 0,
   "metadata": {
    "colab": {
     "base_uri": "https://localhost:8080/",
     "height": 51
    },
    "colab_type": "code",
    "id": "nhuDDK6lsCUJ",
    "outputId": "e7b14c5a-b1af-4032-b35e-e89b16049b32"
   },
   "outputs": [
    {
     "name": "stdout",
     "output_type": "stream",
     "text": [
      "983801\n",
      "64774\n"
     ]
    }
   ],
   "source": [
    "# take id of sincere and insincere question\n",
    "id_sincere = list(quora_train[quora_train.target == 0].index)\n",
    "id_insincere = list(quora_train[quora_train.target == 1].index)\n",
    "print(len(id_sincere))\n",
    "print(len(id_insincere))"
   ]
  },
  {
   "cell_type": "code",
   "execution_count": 0,
   "metadata": {
    "colab": {
     "base_uri": "https://localhost:8080/",
     "height": 68
    },
    "colab_type": "code",
    "id": "a1ZQzJCCtc_y",
    "outputId": "36c5f5d6-b412-47d3-bffa-24b3668e38ef"
   },
   "outputs": [
    {
     "name": "stdout",
     "output_type": "stream",
     "text": [
      "230000\n",
      "11000\n",
      "241000\n"
     ]
    }
   ],
   "source": [
    "# take random 20% id in the train set make validation set\n",
    "id_sincere_val = random.sample(id_sincere, 230000)\n",
    "id_insincere_val = random.sample(id_insincere, 11000)\n",
    "id_val = id_sincere_val + id_insincere_val\n",
    "print(len(id_sincere_val))\n",
    "print(len(id_insincere_val))\n",
    "print(len(id_val))"
   ]
  },
  {
   "cell_type": "code",
   "execution_count": 0,
   "metadata": {
    "colab": {},
    "colab_type": "code",
    "collapsed": true,
    "id": "VsMYZYEKuU85"
   },
   "outputs": [],
   "source": [
    "# id_sincere_train = list(set(id_sincere) - set(id_sincere_val))\n",
    "# id_insincere_train = list(set(id_insincere) - set(id_insincere_val))\n",
    "# print(len(id_sincere_train))\n",
    "# print(len(id_insincere_train))"
   ]
  },
  {
   "cell_type": "code",
   "execution_count": 0,
   "metadata": {
    "colab": {
     "base_uri": "https://localhost:8080/",
     "height": 34
    },
    "colab_type": "code",
    "id": "L5B4c-AgwGCM",
    "outputId": "fa0ae483-1af9-431e-8f24-a518cedb71b1"
   },
   "outputs": [
    {
     "data": {
      "text/plain": [
       "(241000, 5)"
      ]
     },
     "execution_count": 127,
     "metadata": {
      "tags": []
     },
     "output_type": "execute_result"
    }
   ],
   "source": [
    "df_quora_val = quora_train[quora_train.index.isin(id_val)]\n",
    "df_quora_val.shape"
   ]
  },
  {
   "cell_type": "code",
   "execution_count": 0,
   "metadata": {
    "colab": {
     "base_uri": "https://localhost:8080/",
     "height": 34
    },
    "colab_type": "code",
    "id": "mypZxrdtwgWG",
    "outputId": "1fc08dc6-87ec-41a4-b831-5fe52da9c42e"
   },
   "outputs": [
    {
     "data": {
      "text/plain": [
       "(807575, 5)"
      ]
     },
     "execution_count": 128,
     "metadata": {
      "tags": []
     },
     "output_type": "execute_result"
    }
   ],
   "source": [
    "df_quora_train = quora_train[~quora_train.index.isin(id_val)]\n",
    "df_quora_train.shape"
   ]
  },
  {
   "cell_type": "code",
   "execution_count": 0,
   "metadata": {
    "colab": {
     "base_uri": "https://localhost:8080/",
     "height": 34
    },
    "colab_type": "code",
    "id": "UY4snfs_xqiP",
    "outputId": "f2288fd0-d2bd-4696-acbc-10fa9b33e874"
   },
   "outputs": [
    {
     "data": {
      "text/plain": [
       "0.2298357294423384"
      ]
     },
     "execution_count": 129,
     "metadata": {
      "tags": []
     },
     "output_type": "execute_result"
    }
   ],
   "source": [
    "df_quora_val.shape[0]/quora_train.shape[0]"
   ]
  },
  {
   "cell_type": "code",
   "execution_count": 0,
   "metadata": {
    "colab": {
     "base_uri": "https://localhost:8080/",
     "height": 34
    },
    "colab_type": "code",
    "id": "2ogr1VNVx9Uq",
    "outputId": "f5d70ac3-683f-45fe-e426-38d469ef89d1"
   },
   "outputs": [
    {
     "name": "stdout",
     "output_type": "stream",
     "text": [
      "False\n"
     ]
    }
   ],
   "source": [
    "print(common_member(list(df_quora_val.index), list(df_quora_train.index)))"
   ]
  },
  {
   "cell_type": "code",
   "execution_count": 0,
   "metadata": {
    "colab": {},
    "colab_type": "code",
    "collapsed": true,
    "id": "mwVWnXyAyXCa"
   },
   "outputs": [],
   "source": [
    "df_quora_val = df_quora_val.reset_index()\n",
    "df_quora_val = df_quora_val.drop('index', axis= 1)\n",
    "df_quora_train = df_quora_train.reset_index()\n",
    "df_quora_train = df_quora_train.drop('index', axis= 1)"
   ]
  },
  {
   "cell_type": "code",
   "execution_count": 0,
   "metadata": {
    "colab": {
     "base_uri": "https://localhost:8080/",
     "height": 111
    },
    "colab_type": "code",
    "id": "tgrz_HRIubpn",
    "outputId": "49c4ade2-352a-48b5-923e-43befff2d4da"
   },
   "outputs": [
    {
     "data": {
      "text/html": [
       "<div>\n",
       "<style scoped>\n",
       "    .dataframe tbody tr th:only-of-type {\n",
       "        vertical-align: middle;\n",
       "    }\n",
       "\n",
       "    .dataframe tbody tr th {\n",
       "        vertical-align: top;\n",
       "    }\n",
       "\n",
       "    .dataframe thead th {\n",
       "        text-align: right;\n",
       "    }\n",
       "</style>\n",
       "<table border=\"1\" class=\"dataframe\">\n",
       "  <thead>\n",
       "    <tr style=\"text-align: right;\">\n",
       "      <th></th>\n",
       "      <th>Unnamed: 0</th>\n",
       "      <th>qid</th>\n",
       "      <th>question_text</th>\n",
       "      <th>target</th>\n",
       "      <th>question_norm</th>\n",
       "    </tr>\n",
       "  </thead>\n",
       "  <tbody>\n",
       "    <tr>\n",
       "      <th>0</th>\n",
       "      <td>0</td>\n",
       "      <td>00002165364db923c7e6</td>\n",
       "      <td>How did Quebec nationalists see their province...</td>\n",
       "      <td>0</td>\n",
       "      <td>quebec nationalist province nation 1960s</td>\n",
       "    </tr>\n",
       "    <tr>\n",
       "      <th>1</th>\n",
       "      <td>1</td>\n",
       "      <td>000032939017120e6e44</td>\n",
       "      <td>Do you have an adopted dog, how would you enco...</td>\n",
       "      <td>0</td>\n",
       "      <td>adopt dog encourage people adopt shop</td>\n",
       "    </tr>\n",
       "  </tbody>\n",
       "</table>\n",
       "</div>"
      ],
      "text/plain": [
       "   Unnamed: 0                   qid  \\\n",
       "0           0  00002165364db923c7e6   \n",
       "1           1  000032939017120e6e44   \n",
       "\n",
       "                                       question_text  target  \\\n",
       "0  How did Quebec nationalists see their province...       0   \n",
       "1  Do you have an adopted dog, how would you enco...       0   \n",
       "\n",
       "                              question_norm  \n",
       "0  quebec nationalist province nation 1960s  \n",
       "1     adopt dog encourage people adopt shop  "
      ]
     },
     "execution_count": 133,
     "metadata": {
      "tags": []
     },
     "output_type": "execute_result"
    }
   ],
   "source": [
    "df_quora_train.head(2)"
   ]
  },
  {
   "cell_type": "code",
   "execution_count": 0,
   "metadata": {
    "colab": {},
    "colab_type": "code",
    "collapsed": true,
    "id": "FlHObeZpuODf"
   },
   "outputs": [],
   "source": [
    "df_quora_val['text_norm1'] = df_quora_val['question_norm'].apply(clean_text)"
   ]
  },
  {
   "cell_type": "code",
   "execution_count": 0,
   "metadata": {
    "colab": {},
    "colab_type": "code",
    "collapsed": true,
    "id": "504uPxYpxHxX"
   },
   "outputs": [],
   "source": [
    "quora_test['text_norm1'] = quora_test['question_norm'].apply(clean_text)"
   ]
  },
  {
   "cell_type": "code",
   "execution_count": 0,
   "metadata": {
    "colab": {},
    "colab_type": "code",
    "collapsed": true,
    "id": "ox1F_PieuOAP"
   },
   "outputs": [],
   "source": [
    "df_quora_train['text_norm1'] = df_quora_train['question_norm'].apply(clean_text)"
   ]
  },
  {
   "cell_type": "code",
   "execution_count": 0,
   "metadata": {
    "colab": {},
    "colab_type": "code",
    "collapsed": true,
    "id": "8QnFyAaKuNzu"
   },
   "outputs": [],
   "source": [
    "df_quora_train = df_quora_train.drop('question_norm', axis= 1)\n",
    "df_quora_val = df_quora_val.drop('question_norm', axis=1)\n",
    "quora_test= quora_test.drop('question_norm', axis= 1)"
   ]
  },
  {
   "cell_type": "code",
   "execution_count": 0,
   "metadata": {
    "colab": {},
    "colab_type": "code",
    "collapsed": true,
    "id": "CcbNQdTr3Djj"
   },
   "outputs": [],
   "source": [
    "file1 = open(\"excess_word.txt\",\"r+\")  \n",
    "key_ex = file1.read()\n",
    "def remove_excess_word(text):\n",
    "    str_text = text\n",
    "    key_ex = key_ex.split('\\n')\n",
    "    key_ex = [clean_text(w) for w in key_ex]\n",
    "    for word in text.split():\n",
    "        if word in key_ex:\n",
    "            str_text = str_text.replace(word, '')\n",
    "\n",
    "\n",
    "    return str_text"
   ]
  },
  {
   "cell_type": "code",
   "execution_count": 0,
   "metadata": {
    "colab": {
     "base_uri": "https://localhost:8080/",
     "height": 340
    },
    "colab_type": "code",
    "collapsed": true,
    "id": "fVQYxwau2AVj",
    "outputId": "db931b9b-c070-4ef8-928e-957bd0857db0"
   },
   "outputs": [
    {
     "ename": "KeyboardInterrupt",
     "evalue": "ignored",
     "output_type": "error",
     "traceback": [
      "\u001b[0;31m---------------------------------------------------------------------------\u001b[0m",
      "\u001b[0;31mKeyboardInterrupt\u001b[0m                         Traceback (most recent call last)",
      "\u001b[0;32m<ipython-input-162-60af5a48b386>\u001b[0m in \u001b[0;36m<module>\u001b[0;34m()\u001b[0m\n\u001b[0;32m----> 1\u001b[0;31m \u001b[0mdf_quora_val\u001b[0m\u001b[0;34m[\u001b[0m\u001b[0;34m'question_norm'\u001b[0m\u001b[0;34m]\u001b[0m \u001b[0;34m=\u001b[0m \u001b[0mdf_quora_val\u001b[0m\u001b[0;34m[\u001b[0m\u001b[0;34m'text_norm1'\u001b[0m\u001b[0;34m]\u001b[0m\u001b[0;34m.\u001b[0m\u001b[0mapply\u001b[0m\u001b[0;34m(\u001b[0m\u001b[0mremove_excess_word\u001b[0m\u001b[0;34m)\u001b[0m\u001b[0;34m\u001b[0m\u001b[0;34m\u001b[0m\u001b[0m\n\u001b[0m",
      "\u001b[0;32m/usr/local/lib/python3.6/dist-packages/pandas/core/series.py\u001b[0m in \u001b[0;36mapply\u001b[0;34m(self, func, convert_dtype, args, **kwds)\u001b[0m\n\u001b[1;32m   3589\u001b[0m             \u001b[0;32melse\u001b[0m\u001b[0;34m:\u001b[0m\u001b[0;34m\u001b[0m\u001b[0;34m\u001b[0m\u001b[0m\n\u001b[1;32m   3590\u001b[0m                 \u001b[0mvalues\u001b[0m \u001b[0;34m=\u001b[0m \u001b[0mself\u001b[0m\u001b[0;34m.\u001b[0m\u001b[0mastype\u001b[0m\u001b[0;34m(\u001b[0m\u001b[0mobject\u001b[0m\u001b[0;34m)\u001b[0m\u001b[0;34m.\u001b[0m\u001b[0mvalues\u001b[0m\u001b[0;34m\u001b[0m\u001b[0;34m\u001b[0m\u001b[0m\n\u001b[0;32m-> 3591\u001b[0;31m                 \u001b[0mmapped\u001b[0m \u001b[0;34m=\u001b[0m \u001b[0mlib\u001b[0m\u001b[0;34m.\u001b[0m\u001b[0mmap_infer\u001b[0m\u001b[0;34m(\u001b[0m\u001b[0mvalues\u001b[0m\u001b[0;34m,\u001b[0m \u001b[0mf\u001b[0m\u001b[0;34m,\u001b[0m \u001b[0mconvert\u001b[0m\u001b[0;34m=\u001b[0m\u001b[0mconvert_dtype\u001b[0m\u001b[0;34m)\u001b[0m\u001b[0;34m\u001b[0m\u001b[0;34m\u001b[0m\u001b[0m\n\u001b[0m\u001b[1;32m   3592\u001b[0m \u001b[0;34m\u001b[0m\u001b[0m\n\u001b[1;32m   3593\u001b[0m         \u001b[0;32mif\u001b[0m \u001b[0mlen\u001b[0m\u001b[0;34m(\u001b[0m\u001b[0mmapped\u001b[0m\u001b[0;34m)\u001b[0m \u001b[0;32mand\u001b[0m \u001b[0misinstance\u001b[0m\u001b[0;34m(\u001b[0m\u001b[0mmapped\u001b[0m\u001b[0;34m[\u001b[0m\u001b[0;36m0\u001b[0m\u001b[0;34m]\u001b[0m\u001b[0;34m,\u001b[0m \u001b[0mSeries\u001b[0m\u001b[0;34m)\u001b[0m\u001b[0;34m:\u001b[0m\u001b[0;34m\u001b[0m\u001b[0;34m\u001b[0m\u001b[0m\n",
      "\u001b[0;32mpandas/_libs/lib.pyx\u001b[0m in \u001b[0;36mpandas._libs.lib.map_infer\u001b[0;34m()\u001b[0m\n",
      "\u001b[0;32m<ipython-input-160-b46b25557669>\u001b[0m in \u001b[0;36mremove_excess_word\u001b[0;34m(text)\u001b[0m\n\u001b[1;32m      3\u001b[0m   \u001b[0mstr_text\u001b[0m \u001b[0;34m=\u001b[0m \u001b[0mtext\u001b[0m\u001b[0;34m\u001b[0m\u001b[0;34m\u001b[0m\u001b[0m\n\u001b[1;32m      4\u001b[0m   \u001b[0;32mfor\u001b[0m \u001b[0mword\u001b[0m \u001b[0;32min\u001b[0m \u001b[0mtext\u001b[0m\u001b[0;34m.\u001b[0m\u001b[0msplit\u001b[0m\u001b[0;34m(\u001b[0m\u001b[0;34m)\u001b[0m\u001b[0;34m:\u001b[0m\u001b[0;34m\u001b[0m\u001b[0;34m\u001b[0m\u001b[0m\n\u001b[0;32m----> 5\u001b[0;31m     \u001b[0;32mif\u001b[0m \u001b[0mword\u001b[0m \u001b[0;32min\u001b[0m \u001b[0mls_excess_word\u001b[0m\u001b[0;34m:\u001b[0m\u001b[0;34m\u001b[0m\u001b[0;34m\u001b[0m\u001b[0m\n\u001b[0m\u001b[1;32m      6\u001b[0m       \u001b[0mstr_text\u001b[0m \u001b[0;34m=\u001b[0m \u001b[0mstr_text\u001b[0m\u001b[0;34m.\u001b[0m\u001b[0mreplace\u001b[0m\u001b[0;34m(\u001b[0m\u001b[0mword\u001b[0m\u001b[0;34m,\u001b[0m \u001b[0;34m''\u001b[0m\u001b[0;34m)\u001b[0m\u001b[0;34m\u001b[0m\u001b[0;34m\u001b[0m\u001b[0m\n\u001b[1;32m      7\u001b[0m \u001b[0;34m\u001b[0m\u001b[0m\n",
      "\u001b[0;31mKeyboardInterrupt\u001b[0m: "
     ]
    }
   ],
   "source": []
  },
  {
   "cell_type": "code",
   "execution_count": null,
   "metadata": {
    "collapsed": true
   },
   "outputs": [],
   "source": [
    "file1 = open(\"bigram_word1.txt\",\"r+\")  \n",
    "  \n",
    "bigram1 = file1.read()\n",
    "file2 = open(\"bigram_word2.txt\",\"r+\")  \n",
    "  \n",
    "bigram2 = file2.read()\n",
    "print(bigram1.split('\\n')[:2])\n",
    "print(bigram2.split('\\n')[:2])\n",
    "ls_important_bigram = bigram1.split('\\n')\n",
    "ls_important_bigram2 = bigram2.split('\\n')\n",
    "def bigram_phrase(text):\n",
    "    for i in range(len(ls_important_bigram)):\n",
    "    \n",
    "    if clean_text(ls_important_bigram[i].strip()) in text:\n",
    "        #print(ls_important_bigram[i].strip())\n",
    "        text = text.replace(ls_important_bigram[i].strip(), ls_important_bigram2[i].strip())"
   ]
  },
  {
   "cell_type": "code",
   "execution_count": null,
   "metadata": {
    "collapsed": true
   },
   "outputs": [],
   "source": [
    "df_quora_val['question_norm'] = df_quora_val['text_norm1'].apply(remove_excess_word)\n",
    "df_quora_val['question_norm'] = df_quora_val['text_norm1'].apply(bigram_phrase)\n",
    "df_quora_train['question_norm'] = quora_train['question_norm'].apply(remove_excess_word)\n",
    "df_quora_train['question_norm'] = quora_train['question_norm'].apply(bigram_phrase)\n",
    "df_quora_test['question_norm'] = quora_test['question_norm'].apply(remove_excess_word)\n",
    "df_quora_test['question_norm'] = quora_test['question_norm'].apply(bigram_phrase)"
   ]
  },
  {
   "cell_type": "code",
   "execution_count": 0,
   "metadata": {
    "colab": {
     "base_uri": "https://localhost:8080/",
     "height": 34
    },
    "colab_type": "code",
    "id": "8iCowGDi2AJQ",
    "outputId": "e7e57e9c-ba04-43da-ec48-2e5dc026a724"
   },
   "outputs": [
    {
     "data": {
      "text/plain": [
       "(807575, 5)"
      ]
     },
     "execution_count": 173,
     "metadata": {
      "tags": []
     },
     "output_type": "execute_result"
    }
   ],
   "source": [
    "df_quora_train.shape"
   ]
  },
  {
   "cell_type": "code",
   "execution_count": 0,
   "metadata": {
    "colab": {
     "base_uri": "https://localhost:8080/",
     "height": 34
    },
    "colab_type": "code",
    "id": "YKbO2WdT9fzE",
    "outputId": "6831b5d6-a680-476b-f2e2-5b3907d41436"
   },
   "outputs": [
    {
     "data": {
      "text/plain": [
       "603786"
      ]
     },
     "execution_count": 186,
     "metadata": {
      "tags": []
     },
     "output_type": "execute_result"
    }
   ],
   "source": [
    "int(807575/4)*2 + 200000"
   ]
  },
  {
   "cell_type": "code",
   "execution_count": 0,
   "metadata": {
    "colab": {},
    "colab_type": "code",
    "collapsed": true,
    "id": "UUHwY8I1-LWR"
   },
   "outputs": [],
   "source": [
    "df_quora_train = df_quora_train.drop('Unnamed: 0', axis= 1)"
   ]
  },
  {
   "cell_type": "code",
   "execution_count": 0,
   "metadata": {
    "colab": {
     "base_uri": "https://localhost:8080/",
     "height": 111
    },
    "colab_type": "code",
    "id": "NWTeTfq59fdi",
    "outputId": "0fb541b6-0838-49e1-e272-76f8b508e60f"
   },
   "outputs": [
    {
     "data": {
      "text/html": [
       "<div>\n",
       "<style scoped>\n",
       "    .dataframe tbody tr th:only-of-type {\n",
       "        vertical-align: middle;\n",
       "    }\n",
       "\n",
       "    .dataframe tbody tr th {\n",
       "        vertical-align: top;\n",
       "    }\n",
       "\n",
       "    .dataframe thead th {\n",
       "        text-align: right;\n",
       "    }\n",
       "</style>\n",
       "<table border=\"1\" class=\"dataframe\">\n",
       "  <thead>\n",
       "    <tr style=\"text-align: right;\">\n",
       "      <th></th>\n",
       "      <th>qid</th>\n",
       "      <th>question_text</th>\n",
       "      <th>target</th>\n",
       "      <th>text_norm1</th>\n",
       "    </tr>\n",
       "  </thead>\n",
       "  <tbody>\n",
       "    <tr>\n",
       "      <th>0</th>\n",
       "      <td>00002165364db923c7e6</td>\n",
       "      <td>How did Quebec nationalists see their province...</td>\n",
       "      <td>0</td>\n",
       "      <td>quebec nationalist province nation 1960s</td>\n",
       "    </tr>\n",
       "    <tr>\n",
       "      <th>1</th>\n",
       "      <td>000032939017120e6e44</td>\n",
       "      <td>Do you have an adopted dog, how would you enco...</td>\n",
       "      <td>0</td>\n",
       "      <td>adopt dog encourage people adopt shop</td>\n",
       "    </tr>\n",
       "  </tbody>\n",
       "</table>\n",
       "</div>"
      ],
      "text/plain": [
       "                    qid                                      question_text  \\\n",
       "0  00002165364db923c7e6  How did Quebec nationalists see their province...   \n",
       "1  000032939017120e6e44  Do you have an adopted dog, how would you enco...   \n",
       "\n",
       "   target                                text_norm1  \n",
       "0       0  quebec nationalist province nation 1960s  \n",
       "1       0     adopt dog encourage people adopt shop  "
      ]
     },
     "execution_count": 178,
     "metadata": {
      "tags": []
     },
     "output_type": "execute_result"
    }
   ],
   "source": [
    "df_quora_train.head(2)"
   ]
  },
  {
   "cell_type": "code",
   "execution_count": 0,
   "metadata": {
    "colab": {},
    "colab_type": "code",
    "collapsed": true,
    "id": "b9oVlAsM_sS3"
   },
   "outputs": [],
   "source": [
    "quora_train1 = df_quora_train[:201893]\n",
    "quora_train2 = df_quora_train[201893:403786]\n",
    "quora_train3 = df_quora_train[403786:603786]\n",
    "quora_train4 = df_quora_train[603786:]"
   ]
  },
  {
   "cell_type": "code",
   "execution_count": 0,
   "metadata": {
    "colab": {
     "base_uri": "https://localhost:8080/",
     "height": 34
    },
    "colab_type": "code",
    "id": "2mKg7NcF_sIx",
    "outputId": "53735bef-98f3-4378-ca9a-4aa4f77b6722"
   },
   "outputs": [
    {
     "data": {
      "text/plain": [
       "(201893, 4)"
      ]
     },
     "execution_count": 182,
     "metadata": {
      "tags": []
     },
     "output_type": "execute_result"
    }
   ],
   "source": [
    "quora_train1.shape"
   ]
  },
  {
   "cell_type": "code",
   "execution_count": 0,
   "metadata": {
    "colab": {
     "base_uri": "https://localhost:8080/",
     "height": 111
    },
    "colab_type": "code",
    "id": "W9YD-3Vs_sEd",
    "outputId": "935f5037-a768-4b71-c40b-632c9eba919e"
   },
   "outputs": [
    {
     "data": {
      "text/html": [
       "<div>\n",
       "<style scoped>\n",
       "    .dataframe tbody tr th:only-of-type {\n",
       "        vertical-align: middle;\n",
       "    }\n",
       "\n",
       "    .dataframe tbody tr th {\n",
       "        vertical-align: top;\n",
       "    }\n",
       "\n",
       "    .dataframe thead th {\n",
       "        text-align: right;\n",
       "    }\n",
       "</style>\n",
       "<table border=\"1\" class=\"dataframe\">\n",
       "  <thead>\n",
       "    <tr style=\"text-align: right;\">\n",
       "      <th></th>\n",
       "      <th>qid</th>\n",
       "      <th>question_text</th>\n",
       "      <th>target</th>\n",
       "      <th>text_norm1</th>\n",
       "    </tr>\n",
       "  </thead>\n",
       "  <tbody>\n",
       "    <tr>\n",
       "      <th>603786</th>\n",
       "      <td>999b795628bc7e02de4d</td>\n",
       "      <td>Do you ever want to get into deeper discussion...</td>\n",
       "      <td>0</td>\n",
       "      <td>want deep discussion quora question like forth...</td>\n",
       "    </tr>\n",
       "    <tr>\n",
       "      <th>603787</th>\n",
       "      <td>999b7b535257d5ecffef</td>\n",
       "      <td>What are some interesting things an economic m...</td>\n",
       "      <td>0</td>\n",
       "      <td>interest thing economic man</td>\n",
       "    </tr>\n",
       "  </tbody>\n",
       "</table>\n",
       "</div>"
      ],
      "text/plain": [
       "                         qid  \\\n",
       "603786  999b795628bc7e02de4d   \n",
       "603787  999b7b535257d5ecffef   \n",
       "\n",
       "                                            question_text  target  \\\n",
       "603786  Do you ever want to get into deeper discussion...       0   \n",
       "603787  What are some interesting things an economic m...       0   \n",
       "\n",
       "                                               text_norm1  \n",
       "603786  want deep discussion quora question like forth...  \n",
       "603787                        interest thing economic man  "
      ]
     },
     "execution_count": 191,
     "metadata": {
      "tags": []
     },
     "output_type": "execute_result"
    }
   ],
   "source": [
    "quora_train4.head(2)"
   ]
  },
  {
   "cell_type": "code",
   "execution_count": 0,
   "metadata": {
    "colab": {},
    "colab_type": "code",
    "collapsed": true,
    "id": "g2ZoYHYgA0t-"
   },
   "outputs": [],
   "source": []
  },
  {
   "cell_type": "code",
   "execution_count": 0,
   "metadata": {
    "colab": {},
    "colab_type": "code",
    "collapsed": true,
    "id": "83ga0Aq4yMH4"
   },
   "outputs": [],
   "source": [
    "# #save file xlsx\n",
    "writer = pd.ExcelWriter('/content/drive/My Drive/Colab Notebooks/project_final/quora-insincere-questions-classification/quora_train.xlsx', engine= 'xlsxwriter')\n",
    "df_quora_train.to_excel(writer, 'Sheet1', index = False)\n",
    "writer.save()\n",
    "\n",
    "writer0 = pd.ExcelWriter('/content/drive/My Drive/Colab Notebooks/project_final/quora-insincere-questions-classification/quora_val.xlsx', engine= 'xlsxwriter')\n",
    "df_quora_val.to_excel(writer0, 'Sheet1', index = False)\n",
    "writer0.save()"
   ]
  },
  {
   "cell_type": "code",
   "execution_count": 0,
   "metadata": {
    "colab": {},
    "colab_type": "code",
    "collapsed": true,
    "id": "Qs_cPq4Qztr9"
   },
   "outputs": [],
   "source": [
    "writer1 = pd.ExcelWriter('/content/drive/My Drive/Colab Notebooks/project_final/quora-insincere-questions-classification/quora_test.xlsx', engine= 'xlsxwriter')\n",
    "quora_test.to_excel(writer1, 'Sheet1', index= False)\n",
    "writer.save()"
   ]
  },
  {
   "cell_type": "code",
   "execution_count": 0,
   "metadata": {
    "colab": {},
    "colab_type": "code",
    "collapsed": true,
    "id": "PP5zDFix4vaA"
   },
   "outputs": [],
   "source": []
  }
 ],
 "metadata": {
  "accelerator": "GPU",
  "colab": {
   "collapsed_sections": [],
   "name": "quora_analysis.ipynb",
   "provenance": [],
   "version": "0.3.2"
  },
  "kernelspec": {
   "display_name": "Python 3",
   "language": "python",
   "name": "python3"
  },
  "language_info": {
   "codemirror_mode": {
    "name": "ipython",
    "version": 3
   },
   "file_extension": ".py",
   "mimetype": "text/x-python",
   "name": "python",
   "nbconvert_exporter": "python",
   "pygments_lexer": "ipython3",
   "version": "3.6.7"
  }
 },
 "nbformat": 4,
 "nbformat_minor": 1
}
